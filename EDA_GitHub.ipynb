{
 "cells": [
  {
   "cell_type": "code",
   "execution_count": 1,
   "metadata": {},
   "outputs": [],
   "source": [
    "import numpy as np\n",
    "import pandas as pd\n",
    "import matplotlib.pyplot as plt\n",
    "% matplotlib inline\n",
    "import seaborn as sns \n",
    "sns.set()"
   ]
  },
  {
   "cell_type": "markdown",
   "metadata": {},
   "source": [
    "## Read files and join tables "
   ]
  },
  {
   "cell_type": "code",
   "execution_count": 2,
   "metadata": {},
   "outputs": [
    {
     "name": "stdout",
     "output_type": "stream",
     "text": [
      "shape:  (74839, 7)\n"
     ]
    },
    {
     "data": {
      "text/html": [
       "<div>\n",
       "<style scoped>\n",
       "    .dataframe tbody tr th:only-of-type {\n",
       "        vertical-align: middle;\n",
       "    }\n",
       "\n",
       "    .dataframe tbody tr th {\n",
       "        vertical-align: top;\n",
       "    }\n",
       "\n",
       "    .dataframe thead th {\n",
       "        text-align: right;\n",
       "    }\n",
       "</style>\n",
       "<table border=\"1\" class=\"dataframe\">\n",
       "  <thead>\n",
       "    <tr style=\"text-align: right;\">\n",
       "      <th></th>\n",
       "      <th>device_id</th>\n",
       "      <th>gender</th>\n",
       "      <th>age</th>\n",
       "      <th>group</th>\n",
       "      <th>Unnamed: 0</th>\n",
       "      <th>phone_brand</th>\n",
       "      <th>device_model</th>\n",
       "    </tr>\n",
       "  </thead>\n",
       "  <tbody>\n",
       "    <tr>\n",
       "      <th>0</th>\n",
       "      <td>-8076087639492063270</td>\n",
       "      <td>M</td>\n",
       "      <td>35</td>\n",
       "      <td>M32-38</td>\n",
       "      <td>56800</td>\n",
       "      <td>小米</td>\n",
       "      <td>MI 2</td>\n",
       "    </tr>\n",
       "    <tr>\n",
       "      <th>1</th>\n",
       "      <td>-2897161552818060146</td>\n",
       "      <td>M</td>\n",
       "      <td>35</td>\n",
       "      <td>M32-38</td>\n",
       "      <td>41294</td>\n",
       "      <td>小米</td>\n",
       "      <td>MI 2</td>\n",
       "    </tr>\n",
       "    <tr>\n",
       "      <th>2</th>\n",
       "      <td>-8260683887967679142</td>\n",
       "      <td>M</td>\n",
       "      <td>35</td>\n",
       "      <td>M32-38</td>\n",
       "      <td>9993</td>\n",
       "      <td>小米</td>\n",
       "      <td>MI 2</td>\n",
       "    </tr>\n",
       "    <tr>\n",
       "      <th>3</th>\n",
       "      <td>-4938849341048082022</td>\n",
       "      <td>M</td>\n",
       "      <td>30</td>\n",
       "      <td>M29-31</td>\n",
       "      <td>179893</td>\n",
       "      <td>小米</td>\n",
       "      <td>紅米note</td>\n",
       "    </tr>\n",
       "    <tr>\n",
       "      <th>4</th>\n",
       "      <td>245133531816851882</td>\n",
       "      <td>M</td>\n",
       "      <td>30</td>\n",
       "      <td>M29-31</td>\n",
       "      <td>102570</td>\n",
       "      <td>小米</td>\n",
       "      <td>MI 3</td>\n",
       "    </tr>\n",
       "  </tbody>\n",
       "</table>\n",
       "</div>"
      ],
      "text/plain": [
       "             device_id gender  age   group  Unnamed: 0 phone_brand  \\\n",
       "0 -8076087639492063270      M   35  M32-38       56800          小米   \n",
       "1 -2897161552818060146      M   35  M32-38       41294          小米   \n",
       "2 -8260683887967679142      M   35  M32-38        9993          小米   \n",
       "3 -4938849341048082022      M   30  M29-31      179893          小米   \n",
       "4   245133531816851882      M   30  M29-31      102570          小米   \n",
       "\n",
       "  device_model  \n",
       "0         MI 2  \n",
       "1         MI 2  \n",
       "2         MI 2  \n",
       "3       紅米note  \n",
       "4         MI 3  "
      ]
     },
     "execution_count": 2,
     "metadata": {},
     "output_type": "execute_result"
    }
   ],
   "source": [
    "train = pd.read_csv('C:/Users/User/talkingdata/gender_age_train.csv',index_col=None)\n",
    "phone = pd.read_csv('C:/Users/User/talkingdata/phone_brand_device_model_traditional.csv',index_col=None)\n",
    "train_phone = pd.merge(train,phone,how='inner',left_on='device_id',right_on='device_id') \n",
    "print('shape: ',train_phone.shape)\n",
    "train_phone.head()"
   ]
  },
  {
   "cell_type": "code",
   "execution_count": 3,
   "metadata": {},
   "outputs": [
    {
     "name": "stdout",
     "output_type": "stream",
     "text": [
      "39\n"
     ]
    }
   ],
   "source": [
    "import gc\n",
    "del train\n",
    "del phone\n",
    "print(gc.collect())"
   ]
  },
  {
   "cell_type": "markdown",
   "metadata": {},
   "source": [
    "## Drop columns"
   ]
  },
  {
   "cell_type": "code",
   "execution_count": 4,
   "metadata": {},
   "outputs": [
    {
     "name": "stdout",
     "output_type": "stream",
     "text": [
      "shape:  (74839, 4)\n"
     ]
    },
    {
     "data": {
      "text/html": [
       "<div>\n",
       "<style scoped>\n",
       "    .dataframe tbody tr th:only-of-type {\n",
       "        vertical-align: middle;\n",
       "    }\n",
       "\n",
       "    .dataframe tbody tr th {\n",
       "        vertical-align: top;\n",
       "    }\n",
       "\n",
       "    .dataframe thead th {\n",
       "        text-align: right;\n",
       "    }\n",
       "</style>\n",
       "<table border=\"1\" class=\"dataframe\">\n",
       "  <thead>\n",
       "    <tr style=\"text-align: right;\">\n",
       "      <th></th>\n",
       "      <th>gender</th>\n",
       "      <th>age</th>\n",
       "      <th>group</th>\n",
       "      <th>phone_brand</th>\n",
       "    </tr>\n",
       "  </thead>\n",
       "  <tbody>\n",
       "    <tr>\n",
       "      <th>0</th>\n",
       "      <td>M</td>\n",
       "      <td>35</td>\n",
       "      <td>M32-38</td>\n",
       "      <td>小米</td>\n",
       "    </tr>\n",
       "    <tr>\n",
       "      <th>1</th>\n",
       "      <td>M</td>\n",
       "      <td>35</td>\n",
       "      <td>M32-38</td>\n",
       "      <td>小米</td>\n",
       "    </tr>\n",
       "    <tr>\n",
       "      <th>2</th>\n",
       "      <td>M</td>\n",
       "      <td>35</td>\n",
       "      <td>M32-38</td>\n",
       "      <td>小米</td>\n",
       "    </tr>\n",
       "    <tr>\n",
       "      <th>3</th>\n",
       "      <td>M</td>\n",
       "      <td>30</td>\n",
       "      <td>M29-31</td>\n",
       "      <td>小米</td>\n",
       "    </tr>\n",
       "    <tr>\n",
       "      <th>4</th>\n",
       "      <td>M</td>\n",
       "      <td>30</td>\n",
       "      <td>M29-31</td>\n",
       "      <td>小米</td>\n",
       "    </tr>\n",
       "  </tbody>\n",
       "</table>\n",
       "</div>"
      ],
      "text/plain": [
       "  gender  age   group phone_brand\n",
       "0      M   35  M32-38          小米\n",
       "1      M   35  M32-38          小米\n",
       "2      M   35  M32-38          小米\n",
       "3      M   30  M29-31          小米\n",
       "4      M   30  M29-31          小米"
      ]
     },
     "execution_count": 4,
     "metadata": {},
     "output_type": "execute_result"
    }
   ],
   "source": [
    "train_phone = train_phone.drop('Unnamed: 0',axis=1)\n",
    "train_phone = train_phone.drop('device_model',axis=1)\n",
    "train_phone = train_phone.drop('device_id',axis=1)\n",
    "print('shape: ',train_phone.shape)\n",
    "train_phone.head() "
   ]
  },
  {
   "cell_type": "markdown",
   "metadata": {},
   "source": [
    "## Check Missing Data"
   ]
  },
  {
   "cell_type": "code",
   "execution_count": 5,
   "metadata": {},
   "outputs": [
    {
     "data": {
      "text/plain": [
       "gender         False\n",
       "age            False\n",
       "group          False\n",
       "phone_brand    False\n",
       "dtype: bool"
      ]
     },
     "execution_count": 5,
     "metadata": {},
     "output_type": "execute_result"
    }
   ],
   "source": [
    "train_phone.isnull().any()"
   ]
  },
  {
   "cell_type": "markdown",
   "metadata": {},
   "source": [
    "## Top 15 brand"
   ]
  },
  {
   "cell_type": "code",
   "execution_count": 6,
   "metadata": {},
   "outputs": [
    {
     "name": "stdout",
     "output_type": "stream",
     "text": [
      "train_phone_groupby.shape:  (120, 3)\n"
     ]
    },
    {
     "data": {
      "text/html": [
       "<div>\n",
       "<style scoped>\n",
       "    .dataframe tbody tr th:only-of-type {\n",
       "        vertical-align: middle;\n",
       "    }\n",
       "\n",
       "    .dataframe tbody tr th {\n",
       "        vertical-align: top;\n",
       "    }\n",
       "\n",
       "    .dataframe thead th {\n",
       "        text-align: right;\n",
       "    }\n",
       "</style>\n",
       "<table border=\"1\" class=\"dataframe\">\n",
       "  <thead>\n",
       "    <tr style=\"text-align: right;\">\n",
       "      <th></th>\n",
       "      <th>group</th>\n",
       "    </tr>\n",
       "    <tr>\n",
       "      <th>phone_brand</th>\n",
       "      <th></th>\n",
       "    </tr>\n",
       "  </thead>\n",
       "  <tbody>\n",
       "    <tr>\n",
       "      <th>小米</th>\n",
       "      <td>17336</td>\n",
       "    </tr>\n",
       "    <tr>\n",
       "      <th>三星</th>\n",
       "      <td>13706</td>\n",
       "    </tr>\n",
       "    <tr>\n",
       "      <th>華為</th>\n",
       "      <td>13001</td>\n",
       "    </tr>\n",
       "    <tr>\n",
       "      <th>OPPO</th>\n",
       "      <td>5802</td>\n",
       "    </tr>\n",
       "    <tr>\n",
       "      <th>vivo</th>\n",
       "      <td>5658</td>\n",
       "    </tr>\n",
       "    <tr>\n",
       "      <th>魅族</th>\n",
       "      <td>4710</td>\n",
       "    </tr>\n",
       "    <tr>\n",
       "      <th>酷派</th>\n",
       "      <td>3349</td>\n",
       "    </tr>\n",
       "    <tr>\n",
       "      <th>聯想</th>\n",
       "      <td>2695</td>\n",
       "    </tr>\n",
       "    <tr>\n",
       "      <th>金立</th>\n",
       "      <td>1124</td>\n",
       "    </tr>\n",
       "    <tr>\n",
       "      <th>HTC</th>\n",
       "      <td>1015</td>\n",
       "    </tr>\n",
       "    <tr>\n",
       "      <th>中興</th>\n",
       "      <td>861</td>\n",
       "    </tr>\n",
       "    <tr>\n",
       "      <th>樂視</th>\n",
       "      <td>760</td>\n",
       "    </tr>\n",
       "    <tr>\n",
       "      <th>索尼</th>\n",
       "      <td>717</td>\n",
       "    </tr>\n",
       "    <tr>\n",
       "      <th>努比亞</th>\n",
       "      <td>484</td>\n",
       "    </tr>\n",
       "    <tr>\n",
       "      <th>LG</th>\n",
       "      <td>333</td>\n",
       "    </tr>\n",
       "  </tbody>\n",
       "</table>\n",
       "</div>"
      ],
      "text/plain": [
       "             group\n",
       "phone_brand       \n",
       "小米           17336\n",
       "三星           13706\n",
       "華為           13001\n",
       "OPPO          5802\n",
       "vivo          5658\n",
       "魅族            4710\n",
       "酷派            3349\n",
       "聯想            2695\n",
       "金立            1124\n",
       "HTC           1015\n",
       "中興             861\n",
       "樂視             760\n",
       "索尼             717\n",
       "努比亞            484\n",
       "LG             333"
      ]
     },
     "execution_count": 6,
     "metadata": {},
     "output_type": "execute_result"
    }
   ],
   "source": [
    "train_phone_groupby = train_phone.groupby('phone_brand').count()\n",
    "print('train_phone_groupby.shape: ',train_phone_groupby.shape)\n",
    "train_phone_groupby.drop(['gender','age'],inplace=True,axis=1)\n",
    "train_phone_groupby.sort_values('group',inplace=True,ascending=False)\n",
    "train_phone_groupby.head(15)"
   ]
  },
  {
   "cell_type": "code",
   "execution_count": 7,
   "metadata": {},
   "outputs": [
    {
     "data": {
      "text/plain": [
       "array(['小米', '三星', '華為', 'OPPO', 'vivo', '魅族', '酷派', '聯想', '金立', 'HTC',\n",
       "       '中興', '樂視', '索尼', '努比亞', 'LG'], dtype=object)"
      ]
     },
     "execution_count": 7,
     "metadata": {},
     "output_type": "execute_result"
    }
   ],
   "source": [
    "train_phone_groupby = train_phone_groupby.iloc[0:15,:]\n",
    "Top15_list = pd.Series(train_phone_groupby.index)\n",
    "Top15_list.values"
   ]
  },
  {
   "cell_type": "markdown",
   "metadata": {},
   "source": [
    "## Translate top15_brand into english"
   ]
  },
  {
   "cell_type": "code",
   "execution_count": 8,
   "metadata": {},
   "outputs": [
    {
     "data": {
      "text/html": [
       "<div>\n",
       "<style scoped>\n",
       "    .dataframe tbody tr th:only-of-type {\n",
       "        vertical-align: middle;\n",
       "    }\n",
       "\n",
       "    .dataframe tbody tr th {\n",
       "        vertical-align: top;\n",
       "    }\n",
       "\n",
       "    .dataframe thead th {\n",
       "        text-align: right;\n",
       "    }\n",
       "</style>\n",
       "<table border=\"1\" class=\"dataframe\">\n",
       "  <thead>\n",
       "    <tr style=\"text-align: right;\">\n",
       "      <th></th>\n",
       "      <th>gender</th>\n",
       "      <th>age</th>\n",
       "      <th>group</th>\n",
       "      <th>phone_brand</th>\n",
       "    </tr>\n",
       "  </thead>\n",
       "  <tbody>\n",
       "    <tr>\n",
       "      <th>0</th>\n",
       "      <td>M</td>\n",
       "      <td>35</td>\n",
       "      <td>M32-38</td>\n",
       "      <td>Xiaomi</td>\n",
       "    </tr>\n",
       "    <tr>\n",
       "      <th>1</th>\n",
       "      <td>M</td>\n",
       "      <td>35</td>\n",
       "      <td>M32-38</td>\n",
       "      <td>Xiaomi</td>\n",
       "    </tr>\n",
       "    <tr>\n",
       "      <th>2</th>\n",
       "      <td>M</td>\n",
       "      <td>35</td>\n",
       "      <td>M32-38</td>\n",
       "      <td>Xiaomi</td>\n",
       "    </tr>\n",
       "    <tr>\n",
       "      <th>3</th>\n",
       "      <td>M</td>\n",
       "      <td>30</td>\n",
       "      <td>M29-31</td>\n",
       "      <td>Xiaomi</td>\n",
       "    </tr>\n",
       "    <tr>\n",
       "      <th>4</th>\n",
       "      <td>M</td>\n",
       "      <td>30</td>\n",
       "      <td>M29-31</td>\n",
       "      <td>Xiaomi</td>\n",
       "    </tr>\n",
       "  </tbody>\n",
       "</table>\n",
       "</div>"
      ],
      "text/plain": [
       "  gender  age   group phone_brand\n",
       "0      M   35  M32-38      Xiaomi\n",
       "1      M   35  M32-38      Xiaomi\n",
       "2      M   35  M32-38      Xiaomi\n",
       "3      M   30  M29-31      Xiaomi\n",
       "4      M   30  M29-31      Xiaomi"
      ]
     },
     "execution_count": 8,
     "metadata": {},
     "output_type": "execute_result"
    }
   ],
   "source": [
    "Top15_list_english=['Xiaomi','Samsung','HUAWEI','OPPO','vivo','Meizu','Coolpad','Lenovo','Gionee','HTC','ZTE','LETV','SONY','Nubia','LG']\n",
    "train_phone['phone_brand'].replace(Top15_list.values,Top15_list_english,inplace=True)\n",
    "train_phone.head()"
   ]
  },
  {
   "cell_type": "markdown",
   "metadata": {},
   "source": [
    "## Extract Top15 brand table"
   ]
  },
  {
   "cell_type": "markdown",
   "metadata": {},
   "source": [
    "### Top15 List"
   ]
  },
  {
   "cell_type": "code",
   "execution_count": 9,
   "metadata": {},
   "outputs": [
    {
     "name": "stdout",
     "output_type": "stream",
     "text": [
      "train_phone_Top15.shape:  (71551, 4)\n"
     ]
    },
    {
     "data": {
      "text/html": [
       "<div>\n",
       "<style scoped>\n",
       "    .dataframe tbody tr th:only-of-type {\n",
       "        vertical-align: middle;\n",
       "    }\n",
       "\n",
       "    .dataframe tbody tr th {\n",
       "        vertical-align: top;\n",
       "    }\n",
       "\n",
       "    .dataframe thead th {\n",
       "        text-align: right;\n",
       "    }\n",
       "</style>\n",
       "<table border=\"1\" class=\"dataframe\">\n",
       "  <thead>\n",
       "    <tr style=\"text-align: right;\">\n",
       "      <th></th>\n",
       "      <th>gender</th>\n",
       "      <th>age</th>\n",
       "      <th>group</th>\n",
       "      <th>phone_brand</th>\n",
       "    </tr>\n",
       "  </thead>\n",
       "  <tbody>\n",
       "    <tr>\n",
       "      <th>0</th>\n",
       "      <td>M</td>\n",
       "      <td>35</td>\n",
       "      <td>M32-38</td>\n",
       "      <td>Xiaomi</td>\n",
       "    </tr>\n",
       "    <tr>\n",
       "      <th>1</th>\n",
       "      <td>M</td>\n",
       "      <td>35</td>\n",
       "      <td>M32-38</td>\n",
       "      <td>Xiaomi</td>\n",
       "    </tr>\n",
       "    <tr>\n",
       "      <th>2</th>\n",
       "      <td>M</td>\n",
       "      <td>35</td>\n",
       "      <td>M32-38</td>\n",
       "      <td>Xiaomi</td>\n",
       "    </tr>\n",
       "    <tr>\n",
       "      <th>3</th>\n",
       "      <td>M</td>\n",
       "      <td>30</td>\n",
       "      <td>M29-31</td>\n",
       "      <td>Xiaomi</td>\n",
       "    </tr>\n",
       "    <tr>\n",
       "      <th>4</th>\n",
       "      <td>M</td>\n",
       "      <td>30</td>\n",
       "      <td>M29-31</td>\n",
       "      <td>Xiaomi</td>\n",
       "    </tr>\n",
       "  </tbody>\n",
       "</table>\n",
       "</div>"
      ],
      "text/plain": [
       "  gender  age   group phone_brand\n",
       "0      M   35  M32-38      Xiaomi\n",
       "1      M   35  M32-38      Xiaomi\n",
       "2      M   35  M32-38      Xiaomi\n",
       "3      M   30  M29-31      Xiaomi\n",
       "4      M   30  M29-31      Xiaomi"
      ]
     },
     "execution_count": 9,
     "metadata": {},
     "output_type": "execute_result"
    }
   ],
   "source": [
    "Top15_mask = train_phone['phone_brand'].isin(Top15_list_english)\n",
    "train_phone_Top15 = train_phone[Top15_mask]\n",
    "print('train_phone_Top15.shape: ',train_phone_Top15.shape)\n",
    "train_phone_Top15.head()"
   ]
  },
  {
   "cell_type": "markdown",
   "metadata": {},
   "source": [
    "### groupby brand"
   ]
  },
  {
   "cell_type": "code",
   "execution_count": 10,
   "metadata": {},
   "outputs": [],
   "source": [
    "train_phone_Top15_groupby = train_phone_Top15.groupby('phone_brand').count()\n",
    "train_phone_Top15_groupby.sort_values('age',inplace=True,ascending=False)\n",
    "train_phone_Top15_groupby['per']=round(train_phone_Top15_groupby['age'] / train_phone_Top15.shape[0], 2)"
   ]
  },
  {
   "cell_type": "markdown",
   "metadata": {},
   "source": [
    "### barplot"
   ]
  },
  {
   "cell_type": "code",
   "execution_count": 97,
   "metadata": {},
   "outputs": [
    {
     "data": {
      "image/png": "[encoded data removed]",
      "text/plain": [
       "<Figure size 864x432 with 1 Axes>"
      ]
     },
     "metadata": {},
     "output_type": "display_data"
    }
   ],
   "source": [
    "fig = plt.figure(1,figsize=(12,6))\n",
    "sns.barplot(x = train_phone_Top15_groupby.index,y = 'per',data = train_phone_Top15_groupby)\n",
    "plt.xlabel('brand',fontsize=14)\n",
    "plt.ylabel('percentage',fontsize=14)\n",
    "plt.title('Percentage of Top15 brand',fontsize=16)\n",
    "plt.yticks(np.arange(0,0.25,step=0.05),['5%','10%','15%','20%','25%'])\n",
    "for i in np.arange(15):\n",
    "    values = train_phone_Top15_groupby['per'].values[i]\n",
    "    plt.text(i,values,str(values),fontsize=14,color='blue',\n",
    "            verticalalignment='baseline',horizontalalignment='center')\n",
    "plt.annotate('Top5 brand 76%',xy=(4,0.15),xytext=(4,0.2),fontsize=20,color='blue',\n",
    "            arrowprops=dict(facecolor='blue',arrowstyle='fancy',alpha=0.5))\n",
    "plt.savefig('Percentage of Top15 brand',dpi=600)\n",
    "plt.show()"
   ]
  },
  {
   "cell_type": "markdown",
   "metadata": {},
   "source": [
    "### pie"
   ]
  },
  {
   "cell_type": "code",
   "execution_count": 99,
   "metadata": {},
   "outputs": [
    {
     "data": {
      "image/png": "[encoded data removed]",
      "text/plain": [
       "<Figure size 360x360 with 1 Axes>"
      ]
     },
     "metadata": {},
     "output_type": "display_data"
    }
   ],
   "source": [
    "fig = plt.figure(1,figsize=(5,5))\n",
    "top15_user = train_phone_Top15.shape[0]\n",
    "other_user = train_phone.shape[0]-top15_user\n",
    "\n",
    "\n",
    "patches, texts, autotexts = plt.pie([top15_user,other_user],\n",
    "                                    labels=['Top15_users','Others'],\n",
    "                                    shadow=True,\n",
    "                                    explode=(0,0.1),\n",
    "                                    autopct='%1.1f%%')\n",
    "                                    \n",
    "texts[0].set_fontsize(15) #set_font 'top15_users' \n",
    "texts[1].set_fontsize(15)\n",
    "autotexts[0].set_fontsize(20)\n",
    "autotexts[1].set_fontsize(15)\n",
    "autotexts[0].set_color('white')\n",
    "\n",
    "plt.axis('equal')\n",
    "plt.savefig('percentage of top5',dpi=600)\n",
    "plt.show()"
   ]
  },
  {
   "cell_type": "markdown",
   "metadata": {},
   "source": [
    "## Split two tables (Male and Female)"
   ]
  },
  {
   "cell_type": "code",
   "execution_count": 13,
   "metadata": {},
   "outputs": [
    {
     "name": "stdout",
     "output_type": "stream",
     "text": [
      "Male table:  (45804, 4)\n",
      "Female table:  (25747, 4)\n"
     ]
    }
   ],
   "source": [
    "train_phone_Top15_male = train_phone_Top15[train_phone_Top15['gender']=='M']\n",
    "print('Male table: ',train_phone_Top15_male.shape)\n",
    "train_phone_Top15_female = train_phone_Top15[train_phone_Top15['gender']=='F']\n",
    "print('Female table: ',train_phone_Top15_female.shape)"
   ]
  },
  {
   "cell_type": "code",
   "execution_count": 14,
   "metadata": {},
   "outputs": [
    {
     "data": {
      "text/html": [
       "<div>\n",
       "<style scoped>\n",
       "    .dataframe tbody tr th:only-of-type {\n",
       "        vertical-align: middle;\n",
       "    }\n",
       "\n",
       "    .dataframe tbody tr th {\n",
       "        vertical-align: top;\n",
       "    }\n",
       "\n",
       "    .dataframe thead th {\n",
       "        text-align: right;\n",
       "    }\n",
       "</style>\n",
       "<table border=\"1\" class=\"dataframe\">\n",
       "  <thead>\n",
       "    <tr style=\"text-align: right;\">\n",
       "      <th></th>\n",
       "      <th>gender</th>\n",
       "      <th>age</th>\n",
       "      <th>group</th>\n",
       "      <th>phone_brand</th>\n",
       "    </tr>\n",
       "  </thead>\n",
       "  <tbody>\n",
       "    <tr>\n",
       "      <th>0</th>\n",
       "      <td>M</td>\n",
       "      <td>35</td>\n",
       "      <td>M32-38</td>\n",
       "      <td>Xiaomi</td>\n",
       "    </tr>\n",
       "    <tr>\n",
       "      <th>1</th>\n",
       "      <td>M</td>\n",
       "      <td>35</td>\n",
       "      <td>M32-38</td>\n",
       "      <td>Xiaomi</td>\n",
       "    </tr>\n",
       "  </tbody>\n",
       "</table>\n",
       "</div>"
      ],
      "text/plain": [
       "  gender  age   group phone_brand\n",
       "0      M   35  M32-38      Xiaomi\n",
       "1      M   35  M32-38      Xiaomi"
      ]
     },
     "execution_count": 14,
     "metadata": {},
     "output_type": "execute_result"
    }
   ],
   "source": [
    "train_phone_Top15_male.head(2)"
   ]
  },
  {
   "cell_type": "markdown",
   "metadata": {},
   "source": [
    "## Top 15 by age"
   ]
  },
  {
   "cell_type": "markdown",
   "metadata": {},
   "source": [
    "### Male"
   ]
  },
  {
   "cell_type": "code",
   "execution_count": 118,
   "metadata": {},
   "outputs": [
    {
     "data": {
      "image/png": "[encoded data removed]",
      "text/plain": [
       "<Figure size 1080x288 with 1 Axes>"
      ]
     },
     "metadata": {},
     "output_type": "display_data"
    }
   ],
   "source": [
    "fig=plt.figure(2,(15,4))\n",
    "sns.boxplot(x='phone_brand',y='age',data=train_phone_Top15_male,linewidth=2,order=Top15_list_english)\n",
    "plt.title('Top 15 by age (male)')\n",
    "plt.annotate('Male',xy=(1,60),xytext=(13,85),fontsize=16,color='Blue')\n",
    "plt.savefig('top15_boxplot_male',dpi=600)\n",
    "plt.show()"
   ]
  },
  {
   "cell_type": "markdown",
   "metadata": {},
   "source": [
    "### Female"
   ]
  },
  {
   "cell_type": "code",
   "execution_count": 116,
   "metadata": {},
   "outputs": [
    {
     "data": {
      "image/png": "[encoded data removed]",
      "text/plain": [
       "<Figure size 1080x288 with 1 Axes>"
      ]
     },
     "metadata": {},
     "output_type": "display_data"
    }
   ],
   "source": [
    "fig=plt.figure(2,(15,4))\n",
    "sns.boxplot(x='phone_brand',y='age',data=train_phone_Top15_female,linewidth=2,order=Top15_list_english)\n",
    "plt.title('Top 15 by age (female)')\n",
    "plt.annotate('Female',xy=(1,60),xytext=(13,85),fontsize=16,color='red')\n",
    "plt.savefig('top15_boxplot_female', dpi = 600)\n",
    "plt.show()"
   ]
  },
  {
   "cell_type": "markdown",
   "metadata": {},
   "source": [
    "## Top 15 by gender"
   ]
  },
  {
   "cell_type": "markdown",
   "metadata": {},
   "source": [
    "### Top15 Data processing"
   ]
  },
  {
   "cell_type": "code",
   "execution_count": 17,
   "metadata": {},
   "outputs": [
    {
     "data": {
      "text/html": [
       "<div>\n",
       "<style scoped>\n",
       "    .dataframe tbody tr th:only-of-type {\n",
       "        vertical-align: middle;\n",
       "    }\n",
       "\n",
       "    .dataframe tbody tr th {\n",
       "        vertical-align: top;\n",
       "    }\n",
       "\n",
       "    .dataframe thead th {\n",
       "        text-align: right;\n",
       "    }\n",
       "</style>\n",
       "<table border=\"1\" class=\"dataframe\">\n",
       "  <thead>\n",
       "    <tr style=\"text-align: right;\">\n",
       "      <th></th>\n",
       "      <th>key</th>\n",
       "      <th>male</th>\n",
       "      <th>female</th>\n",
       "      <th>male_per</th>\n",
       "      <th>female_per</th>\n",
       "      <th>total</th>\n",
       "    </tr>\n",
       "  </thead>\n",
       "  <tbody>\n",
       "    <tr>\n",
       "      <th>12</th>\n",
       "      <td>Xiaomi</td>\n",
       "      <td>346228</td>\n",
       "      <td>190960</td>\n",
       "      <td>0.64</td>\n",
       "      <td>0.36</td>\n",
       "      <td>537188</td>\n",
       "    </tr>\n",
       "    <tr>\n",
       "      <th>11</th>\n",
       "      <td>Samsung</td>\n",
       "      <td>268655</td>\n",
       "      <td>183190</td>\n",
       "      <td>0.59</td>\n",
       "      <td>0.41</td>\n",
       "      <td>451845</td>\n",
       "    </tr>\n",
       "    <tr>\n",
       "      <th>3</th>\n",
       "      <td>HUAWEI</td>\n",
       "      <td>283458</td>\n",
       "      <td>142360</td>\n",
       "      <td>0.67</td>\n",
       "      <td>0.33</td>\n",
       "      <td>425818</td>\n",
       "    </tr>\n",
       "    <tr>\n",
       "      <th>9</th>\n",
       "      <td>OPPO</td>\n",
       "      <td>94952</td>\n",
       "      <td>75953</td>\n",
       "      <td>0.56</td>\n",
       "      <td>0.44</td>\n",
       "      <td>170905</td>\n",
       "    </tr>\n",
       "    <tr>\n",
       "      <th>14</th>\n",
       "      <td>vivo</td>\n",
       "      <td>86944</td>\n",
       "      <td>76336</td>\n",
       "      <td>0.53</td>\n",
       "      <td>0.47</td>\n",
       "      <td>163280</td>\n",
       "    </tr>\n",
       "  </tbody>\n",
       "</table>\n",
       "</div>"
      ],
      "text/plain": [
       "        key    male  female  male_per  female_per   total\n",
       "12   Xiaomi  346228  190960      0.64        0.36  537188\n",
       "11  Samsung  268655  183190      0.59        0.41  451845\n",
       "3    HUAWEI  283458  142360      0.67        0.33  425818\n",
       "9      OPPO   94952   75953      0.56        0.44  170905\n",
       "14     vivo   86944   76336      0.53        0.47  163280"
      ]
     },
     "execution_count": 17,
     "metadata": {},
     "output_type": "execute_result"
    }
   ],
   "source": [
    "hist_male = train_phone_Top15_male.groupby('phone_brand').sum()\n",
    "hist_female = train_phone_Top15_female.groupby('phone_brand').sum()\n",
    "\n",
    "# merge male and female\n",
    "hist_sex = pd.merge(hist_male,hist_female,on=hist_male.index)\n",
    "hist_sex.columns = ['key','male','female']\n",
    "\n",
    "# add columns (percentage and total)\n",
    "hist_sex['male_per'] = round(hist_sex['male']/(hist_sex['male']+hist_sex['female']),2)\n",
    "hist_sex['female_per'] = 1-hist_sex['male_per']\n",
    "hist_sex['total'] = hist_sex['male'] + hist_sex['female']\n",
    "\n",
    "hist_sex.sort_values('total',inplace = True,ascending = False)\n",
    "hist_sex.head()"
   ]
  },
  {
   "cell_type": "markdown",
   "metadata": {},
   "source": [
    "### Numbers of users"
   ]
  },
  {
   "cell_type": "code",
   "execution_count": 119,
   "metadata": {},
   "outputs": [
    {
     "data": {
      "image/png": "[encoded data removed]",
      "text/plain": [
       "<Figure size 1008x432 with 1 Axes>"
      ]
     },
     "metadata": {},
     "output_type": "display_data"
    }
   ],
   "source": [
    "fig = plt.figure(1,figsize=(14,6))\n",
    "plt.bar(hist_sex['key'],hist_sex['male'],align='edge',label='male',width=0.4,color='blue')\n",
    "plt.bar(hist_sex['key'],hist_sex['female'],align='edge',label='female',width=-0.4,color='red')\n",
    "plt.xlabel('brand',fontsize=14)\n",
    "plt.ylabel('count',fontsize=14)\n",
    "plt.title('Numbers of users',fontsize=16)\n",
    "plt.legend(loc='best',fontsize=14)\n",
    "plt.savefig('Numbers of users',dpi=600)\n",
    "plt.show()"
   ]
  },
  {
   "cell_type": "markdown",
   "metadata": {},
   "source": [
    "### Percentage of users"
   ]
  },
  {
   "cell_type": "markdown",
   "metadata": {},
   "source": [
    "#### bar plot"
   ]
  },
  {
   "cell_type": "code",
   "execution_count": 120,
   "metadata": {},
   "outputs": [
    {
     "data": {
      "image/png": "[encoded data removed]",
      "text/plain": [
       "<Figure size 1008x432 with 1 Axes>"
      ]
     },
     "metadata": {},
     "output_type": "display_data"
    }
   ],
   "source": [
    "fig,ax = plt.subplots(1)\n",
    "ax.bar(hist_sex['key'],hist_sex['male_per'],label='male',color='blue',bottom=hist_sex['female_per'],width=0.6)\n",
    "ax.bar(hist_sex['key'],hist_sex['female_per'],label='female',color='red',width=0.6)\n",
    "\n",
    "fig.set_figwidth(14)\n",
    "fig.set_figheight(6)\n",
    "ax.set_xbound(-1,17)\n",
    "plt.xlabel('brand',fontsize=14)\n",
    "plt.title('Percentage of users',fontsize=16)\n",
    "plt.legend(loc='best',fontsize=14)\n",
    "plt.savefig('Percentage of users',dpi=600)\n",
    "plt.show()"
   ]
  },
  {
   "cell_type": "markdown",
   "metadata": {},
   "source": [
    "## Top5 Distribution"
   ]
  },
  {
   "cell_type": "markdown",
   "metadata": {},
   "source": [
    "### Top5 Data processing"
   ]
  },
  {
   "cell_type": "code",
   "execution_count": 20,
   "metadata": {},
   "outputs": [
    {
     "name": "stdout",
     "output_type": "stream",
     "text": [
      "top5_gender.shape:  (55503, 4)\n"
     ]
    },
    {
     "data": {
      "text/html": [
       "<div>\n",
       "<style scoped>\n",
       "    .dataframe tbody tr th:only-of-type {\n",
       "        vertical-align: middle;\n",
       "    }\n",
       "\n",
       "    .dataframe tbody tr th {\n",
       "        vertical-align: top;\n",
       "    }\n",
       "\n",
       "    .dataframe thead th {\n",
       "        text-align: right;\n",
       "    }\n",
       "</style>\n",
       "<table border=\"1\" class=\"dataframe\">\n",
       "  <thead>\n",
       "    <tr style=\"text-align: right;\">\n",
       "      <th></th>\n",
       "      <th>gender</th>\n",
       "      <th>age</th>\n",
       "      <th>group</th>\n",
       "      <th>phone_brand</th>\n",
       "    </tr>\n",
       "  </thead>\n",
       "  <tbody>\n",
       "    <tr>\n",
       "      <th>0</th>\n",
       "      <td>M</td>\n",
       "      <td>35</td>\n",
       "      <td>M32-38</td>\n",
       "      <td>Xiaomi</td>\n",
       "    </tr>\n",
       "    <tr>\n",
       "      <th>1</th>\n",
       "      <td>M</td>\n",
       "      <td>35</td>\n",
       "      <td>M32-38</td>\n",
       "      <td>Xiaomi</td>\n",
       "    </tr>\n",
       "    <tr>\n",
       "      <th>2</th>\n",
       "      <td>M</td>\n",
       "      <td>35</td>\n",
       "      <td>M32-38</td>\n",
       "      <td>Xiaomi</td>\n",
       "    </tr>\n",
       "    <tr>\n",
       "      <th>3</th>\n",
       "      <td>M</td>\n",
       "      <td>30</td>\n",
       "      <td>M29-31</td>\n",
       "      <td>Xiaomi</td>\n",
       "    </tr>\n",
       "    <tr>\n",
       "      <th>4</th>\n",
       "      <td>M</td>\n",
       "      <td>30</td>\n",
       "      <td>M29-31</td>\n",
       "      <td>Xiaomi</td>\n",
       "    </tr>\n",
       "  </tbody>\n",
       "</table>\n",
       "</div>"
      ],
      "text/plain": [
       "  gender  age   group phone_brand\n",
       "0      M   35  M32-38      Xiaomi\n",
       "1      M   35  M32-38      Xiaomi\n",
       "2      M   35  M32-38      Xiaomi\n",
       "3      M   30  M29-31      Xiaomi\n",
       "4      M   30  M29-31      Xiaomi"
      ]
     },
     "execution_count": 20,
     "metadata": {},
     "output_type": "execute_result"
    }
   ],
   "source": [
    "top5_list = ['Xiaomi','Samsung','HUAWEI','OPPO','vivo']\n",
    "top5_male = train_phone_Top15_male[train_phone_Top15_male['phone_brand'].isin(top5_list)]\n",
    "top5_female = train_phone_Top15_female[train_phone_Top15_female['phone_brand'].isin(top5_list)]\n",
    "top5_gender = pd.concat((top5_male,top5_female))\n",
    "print('top5_gender.shape: ',top5_gender.shape)\n",
    "top5_gender.head()"
   ]
  },
  {
   "cell_type": "markdown",
   "metadata": {},
   "source": [
    "### box plot"
   ]
  },
  {
   "cell_type": "code",
   "execution_count": 121,
   "metadata": {},
   "outputs": [
    {
     "data": {
      "image/png": "[encoded data removed]",
      "text/plain": [
       "<Figure size 864x432 with 1 Axes>"
      ]
     },
     "metadata": {},
     "output_type": "display_data"
    }
   ],
   "source": [
    "fig,ax = plt.subplots(1)\n",
    "pal = {'M':'b','F':'r'}\n",
    "ax = sns.boxplot(x='phone_brand',y='age',data=top5_gender,hue='gender',\n",
    "                linewidth=0.6,width=0.6,dodge=True,\n",
    "                order=top5_list,palette=pal)\n",
    "# ax = sns.swarmplot(x='phone_brand',y='age',data=tem,hue='gender',\n",
    "#                 color='7',\n",
    "#                 order=top5_list)\n",
    "fig.set_figwidth(12)\n",
    "fig.set_figheight(6)\n",
    "plt.legend(loc='best')\n",
    "plt.ylabel('age',fontsize=14)\n",
    "plt.xlabel('brand',fontsize=14)\n",
    "plt.title('Top5 brand distribution',fontsize=16)\n",
    "plt.savefig('Top5 brand distribution',dpi=600)\n",
    "plt.show()"
   ]
  },
  {
   "cell_type": "markdown",
   "metadata": {},
   "source": [
    "### count by age"
   ]
  },
  {
   "cell_type": "code",
   "execution_count": 122,
   "metadata": {},
   "outputs": [
    {
     "data": {
      "image/png": "[encoded data removed]",
      "text/plain": [
       "<Figure size 1008x432 with 1 Axes>"
      ]
     },
     "metadata": {},
     "output_type": "display_data"
    }
   ],
   "source": [
    "fig = plt.figure(1,figsize=(14,6))\n",
    "plt.hist([top5_male[top5_male['phone_brand']=='Xiaomi']['age'],\n",
    "          top5_male[top5_male['phone_brand']=='Samsung']['age'],\n",
    "          top5_male[top5_male['phone_brand']=='HUAWEI']['age'],\n",
    "          top5_male[top5_male['phone_brand']=='OPPO']['age'],\n",
    "          top5_male[top5_male['phone_brand']=='vivo']['age'],],\n",
    "          rwidth=0.8,\n",
    "          bins=20,stacked=False)\n",
    "plt.xlabel('age',fontsize=14)\n",
    "plt.xlim(15,75)\n",
    "plt.title('Top5 count by age',fontsize=16)\n",
    "plt.legend(labels=['Xiaomi','Samsung','HUAWEI','OPPO','vivo'],loc='best',fontsize=12)\n",
    "plt.savefig('Top5 count by age',dpi=600)\n",
    "plt.show()"
   ]
  },
  {
   "cell_type": "markdown",
   "metadata": {},
   "source": [
    "### Top5 stack: count"
   ]
  },
  {
   "cell_type": "code",
   "execution_count": 123,
   "metadata": {},
   "outputs": [
    {
     "data": {
      "image/png": "[encoded data removed]",
      "text/plain": [
       "<Figure size 432x288 with 1 Axes>"
      ]
     },
     "metadata": {},
     "output_type": "display_data"
    },
    {
     "data": {
      "image/png": "[encoded data removed]",
      "text/plain": [
       "<Figure size 432x288 with 1 Axes>"
      ]
     },
     "metadata": {},
     "output_type": "display_data"
    }
   ],
   "source": [
    "def hist_stack(dataframe,title,filename):\n",
    "    plt.hist([dataframe[dataframe['phone_brand']=='Xiaomi']['age'],\n",
    "              dataframe[dataframe['phone_brand']=='Samsung']['age'],\n",
    "              dataframe[dataframe['phone_brand']=='HUAWEI']['age'],\n",
    "              dataframe[dataframe['phone_brand']=='OPPO']['age'],\n",
    "              dataframe[dataframe['phone_brand']=='vivo']['age'],],\n",
    "              bins=80,stacked=True)\n",
    "    plt.legend(labels=['Xiaomi','Samsung','HUAWEI','OPPO','vivo'],loc='best')\n",
    "    plt.xlabel('age',fontsize=14)\n",
    "    plt.xlim(15,75)\n",
    "    plt.ylim(0,2200)\n",
    "    plt.title(str(title),fontsize=16)\n",
    "    fig.set_figheight(6)\n",
    "    fig.set_figwidth(8)\n",
    "    plt.savefig(str(filename),dpi=600)\n",
    "    plt.show()\n",
    "\n",
    "hist_stack(top5_male,'male','top5_stack_male')   \n",
    "hist_stack(top5_female,'female','top5_stack_female')"
   ]
  },
  {
   "cell_type": "markdown",
   "metadata": {},
   "source": [
    "### top5 stack: percentage"
   ]
  },
  {
   "cell_type": "markdown",
   "metadata": {},
   "source": [
    "#### define data processing function "
   ]
  },
  {
   "cell_type": "code",
   "execution_count": 24,
   "metadata": {},
   "outputs": [],
   "source": [
    "def percentage_split(top5_X,i):\n",
    "    # groupby age and phone_brand\n",
    "    data = top5_X.groupby(['age','phone_brand'],as_index=False).count() \n",
    "    data.drop('group',inplace=True,axis=1)\n",
    "    data.columns=['age','phone_brand','count']\n",
    "    # groupby age\n",
    "    age = top5_X.groupby(by='age',as_index=False).count()\n",
    "    age.drop(['group','phone_brand'],inplace=True,axis=1)\n",
    "    age.columns=['age','total']\n",
    "    # merger both tables\n",
    "    data = pd.merge(data,age,on='age')\n",
    "    data['per']=np.round(data['count']/data['total'],2)\n",
    "    \n",
    "    age_all = pd.DataFrame({'age':np.arange(1,89)})\n",
    "    data=data[data['phone_brand']==top5_list[i]]\n",
    "    data = pd.merge(age_all,data,on='age',how='left')\n",
    "    data = data.fillna(0)\n",
    "    return data"
   ]
  },
  {
   "cell_type": "markdown",
   "metadata": {},
   "source": [
    "#### call function, parameter: male"
   ]
  },
  {
   "cell_type": "code",
   "execution_count": 25,
   "metadata": {},
   "outputs": [],
   "source": [
    "male_xiaomi = percentage_split(top5_male,0)\n",
    "male_Samsung=percentage_split(top5_male,1)\n",
    "male_HUAWEI=percentage_split(top5_male,2)\n",
    "male_OPPO=percentage_split(top5_male,3)\n",
    "male_vivo=percentage_split(top5_male,4)"
   ]
  },
  {
   "cell_type": "markdown",
   "metadata": {},
   "source": [
    "#### call function, parameter: female"
   ]
  },
  {
   "cell_type": "code",
   "execution_count": 26,
   "metadata": {},
   "outputs": [
    {
     "data": {
      "text/plain": [
       "['vivo', 'OPPO', 'HUAWEI', 'Samsung', 'Xiaomi']"
      ]
     },
     "execution_count": 26,
     "metadata": {},
     "output_type": "execute_result"
    }
   ],
   "source": [
    "female_xiaomi = percentage_split(top5_female,0)\n",
    "female_Samsung=percentage_split(top5_female,1)\n",
    "female_HUAWEI=percentage_split(top5_female,2)\n",
    "female_OPPO=percentage_split(top5_female,3)\n",
    "female_vivo=percentage_split(top5_female,4)\n",
    "top5_list.reverse()\n",
    "top5_list"
   ]
  },
  {
   "cell_type": "code",
   "execution_count": 124,
   "metadata": {},
   "outputs": [
    {
     "data": {
      "image/png": "[encoded data removed]",
      "text/plain": [
       "<Figure size 1152x360 with 2 Axes>"
      ]
     },
     "metadata": {},
     "output_type": "display_data"
    }
   ],
   "source": [
    "fig,axes = plt.subplots(1,2,figsize=(16,5))\n",
    "axes[0].bar(male_vivo['age'],male_vivo['per'],width=1)\n",
    "axes[0].bar(male_OPPO['age'],male_OPPO['per'],bottom=male_vivo['per'],width=1)\n",
    "axes[0].bar(male_HUAWEI['age'],male_HUAWEI['per'],bottom=male_vivo['per']+male_OPPO['per'],width=1)\n",
    "axes[0].bar(male_Samsung['age'],male_Samsung['per'],bottom=male_vivo['per']+male_OPPO['per']+male_HUAWEI['per'],width=1)\n",
    "axes[0].bar(male_xiaomi['age'],male_xiaomi['per'],bottom=male_vivo['per']+male_OPPO['per']+male_HUAWEI['per']+male_Samsung['per'],width=1)\n",
    "\n",
    "axes[1].bar(female_vivo['age'],female_vivo['per'],width=1)\n",
    "axes[1].bar(female_OPPO['age'],female_OPPO['per'],bottom=female_vivo['per'],width=1)\n",
    "axes[1].bar(female_HUAWEI['age'],female_HUAWEI['per'],bottom=female_vivo['per']+female_OPPO['per'],width=1)\n",
    "axes[1].bar(female_Samsung['age'],female_Samsung['per'],bottom=female_vivo['per']+female_OPPO['per']+female_HUAWEI['per'],width=1)\n",
    "axes[1].bar(female_xiaomi['age'],female_xiaomi['per'],bottom=female_vivo['per']+female_OPPO['per']+female_HUAWEI['per']+female_Samsung['per'],width=1)\n",
    "\n",
    "axes[0].set_xlabel('age',fontsize=14)\n",
    "axes[1].set_xlabel('age',fontsize=14)\n",
    "axes[0].set_xlim(18,65)\n",
    "axes[1].set_xlim(18,65)\n",
    "axes[0].set_ylim(0,1)\n",
    "axes[1].set_ylim(0,1)\n",
    "axes[0].set_yticks((0.25,.5,.75,1))\n",
    "axes[1].set_yticks((0.25,.5,.75,1))\n",
    "fig.legend(top5_list,fontsize=16,\n",
    "           bbox_to_anchor=(0.4, 1), loc='upper center',\n",
    "           ncol=5,borderaxespad=None)\n",
    "plt.savefig('stacked_gender',dpi=600)\n",
    "plt.show()"
   ]
  },
  {
   "cell_type": "markdown",
   "metadata": {},
   "source": [
    "## Distribution heatmap"
   ]
  },
  {
   "cell_type": "markdown",
   "metadata": {},
   "source": [
    "### import packages and Read file"
   ]
  },
  {
   "cell_type": "code",
   "execution_count": 28,
   "metadata": {},
   "outputs": [],
   "source": [
    "import folium\n",
    "from folium.plugins import HeatMap\n",
    "from folium.plugins import HeatMapWithTime"
   ]
  },
  {
   "cell_type": "code",
   "execution_count": 29,
   "metadata": {},
   "outputs": [
    {
     "name": "stdout",
     "output_type": "stream",
     "text": [
      "positions.shape:  (3252950, 5)\n",
      "positions missing data:  0\n"
     ]
    },
    {
     "data": {
      "text/html": [
       "<div>\n",
       "<style scoped>\n",
       "    .dataframe tbody tr th:only-of-type {\n",
       "        vertical-align: middle;\n",
       "    }\n",
       "\n",
       "    .dataframe tbody tr th {\n",
       "        vertical-align: top;\n",
       "    }\n",
       "\n",
       "    .dataframe thead th {\n",
       "        text-align: right;\n",
       "    }\n",
       "</style>\n",
       "<table border=\"1\" class=\"dataframe\">\n",
       "  <thead>\n",
       "    <tr style=\"text-align: right;\">\n",
       "      <th></th>\n",
       "      <th>device_id</th>\n",
       "      <th>timestamp</th>\n",
       "      <th>longitude</th>\n",
       "      <th>latitude</th>\n",
       "    </tr>\n",
       "  </thead>\n",
       "  <tbody>\n",
       "    <tr>\n",
       "      <th>0</th>\n",
       "      <td>29182687948017175</td>\n",
       "      <td>2016-05-01 00:55:25</td>\n",
       "      <td>121.38</td>\n",
       "      <td>31.24</td>\n",
       "    </tr>\n",
       "    <tr>\n",
       "      <th>1</th>\n",
       "      <td>-6401643145415154744</td>\n",
       "      <td>2016-05-01 00:54:12</td>\n",
       "      <td>103.65</td>\n",
       "      <td>30.97</td>\n",
       "    </tr>\n",
       "    <tr>\n",
       "      <th>2</th>\n",
       "      <td>-4833982096941402721</td>\n",
       "      <td>2016-05-01 00:08:05</td>\n",
       "      <td>106.60</td>\n",
       "      <td>29.70</td>\n",
       "    </tr>\n",
       "    <tr>\n",
       "      <th>3</th>\n",
       "      <td>-6815121365017318426</td>\n",
       "      <td>2016-05-01 00:06:40</td>\n",
       "      <td>104.27</td>\n",
       "      <td>23.28</td>\n",
       "    </tr>\n",
       "    <tr>\n",
       "      <th>4</th>\n",
       "      <td>-5373797595892518570</td>\n",
       "      <td>2016-05-01 00:07:18</td>\n",
       "      <td>115.88</td>\n",
       "      <td>28.66</td>\n",
       "    </tr>\n",
       "  </tbody>\n",
       "</table>\n",
       "</div>"
      ],
      "text/plain": [
       "             device_id            timestamp  longitude  latitude\n",
       "0    29182687948017175  2016-05-01 00:55:25     121.38     31.24\n",
       "1 -6401643145415154744  2016-05-01 00:54:12     103.65     30.97\n",
       "2 -4833982096941402721  2016-05-01 00:08:05     106.60     29.70\n",
       "3 -6815121365017318426  2016-05-01 00:06:40     104.27     23.28\n",
       "4 -5373797595892518570  2016-05-01 00:07:18     115.88     28.66"
      ]
     },
     "execution_count": 29,
     "metadata": {},
     "output_type": "execute_result"
    }
   ],
   "source": [
    "positions = pd.read_csv('C:/Users/User/talkingdata/events.csv')\n",
    "print('positions.shape: ',positions.shape)\n",
    "positions.drop(columns=['event_id'],inplace=True)\n",
    "print('positions missing data: ',positions.isnull().any().sum())\n",
    "positions.head()"
   ]
  },
  {
   "cell_type": "markdown",
   "metadata": {},
   "source": [
    "### All Phone_Brand Distribution HeatMap"
   ]
  },
  {
   "cell_type": "markdown",
   "metadata": {},
   "source": [
    "#### data processing"
   ]
  },
  {
   "cell_type": "code",
   "execution_count": 30,
   "metadata": {},
   "outputs": [
    {
     "name": "stdout",
     "output_type": "stream",
     "text": [
      "length:  3252950\n"
     ]
    },
    {
     "data": {
      "text/plain": [
       "[31.24, 121.38]"
      ]
     },
     "execution_count": 30,
     "metadata": {},
     "output_type": "execute_result"
    }
   ],
   "source": [
    "locations_all=[]\n",
    "for i in range(positions['longitude'].shape[0]):\n",
    "    locations_all.append([positions['latitude'].values[i],positions['longitude'].values[i]])\n",
    "\n",
    "print('length: ',len(locations_all))\n",
    "locations_all[0]"
   ]
  },
  {
   "cell_type": "markdown",
   "metadata": {},
   "source": [
    "#### heatmap"
   ]
  },
  {
   "cell_type": "code",
   "execution_count": null,
   "metadata": {},
   "outputs": [],
   "source": [
    "fmap = folium.Map(location=[30, 120],zoom_start=2,tiles='stamentoner')\n",
    "fmap.add_child(HeatMap(data = locations_all))\n",
    "fmap.save('all_phoneBrand_heatmap.html')"
   ]
  },
  {
   "cell_type": "markdown",
   "metadata": {},
   "source": [
    "### Top5 Phone_Brand Distribution HeatMap"
   ]
  },
  {
   "cell_type": "markdown",
   "metadata": {},
   "source": [
    "#### data processing 1 : extract top5 brand device_id"
   ]
  },
  {
   "cell_type": "code",
   "execution_count": 32,
   "metadata": {},
   "outputs": [
    {
     "name": "stdout",
     "output_type": "stream",
     "text": [
      "Top5 brand:  ['Xiaomi', 'Samsung', 'HUAWEI', 'OPPO', 'vivo']\n",
      "top5_loc_date.shape:  (11460, 2)\n"
     ]
    },
    {
     "data": {
      "text/html": [
       "<div>\n",
       "<style scoped>\n",
       "    .dataframe tbody tr th:only-of-type {\n",
       "        vertical-align: middle;\n",
       "    }\n",
       "\n",
       "    .dataframe tbody tr th {\n",
       "        vertical-align: top;\n",
       "    }\n",
       "\n",
       "    .dataframe thead th {\n",
       "        text-align: right;\n",
       "    }\n",
       "</style>\n",
       "<table border=\"1\" class=\"dataframe\">\n",
       "  <thead>\n",
       "    <tr style=\"text-align: right;\">\n",
       "      <th></th>\n",
       "      <th>device_id</th>\n",
       "      <th>phone_brand</th>\n",
       "    </tr>\n",
       "  </thead>\n",
       "  <tbody>\n",
       "    <tr>\n",
       "      <th>5</th>\n",
       "      <td>-1297074871525174196</td>\n",
       "      <td>OPPO</td>\n",
       "    </tr>\n",
       "    <tr>\n",
       "      <th>8</th>\n",
       "      <td>176515041953473526</td>\n",
       "      <td>vivo</td>\n",
       "    </tr>\n",
       "    <tr>\n",
       "      <th>31</th>\n",
       "      <td>7630241409816671260</td>\n",
       "      <td>vivo</td>\n",
       "    </tr>\n",
       "    <tr>\n",
       "      <th>36</th>\n",
       "      <td>3549658489155683094</td>\n",
       "      <td>OPPO</td>\n",
       "    </tr>\n",
       "    <tr>\n",
       "      <th>59</th>\n",
       "      <td>3098621662950438701</td>\n",
       "      <td>vivo</td>\n",
       "    </tr>\n",
       "  </tbody>\n",
       "</table>\n",
       "</div>"
      ],
      "text/plain": [
       "              device_id phone_brand\n",
       "5  -1297074871525174196        OPPO\n",
       "8    176515041953473526        vivo\n",
       "31  7630241409816671260        vivo\n",
       "36  3549658489155683094        OPPO\n",
       "59  3098621662950438701        vivo"
      ]
     },
     "execution_count": 32,
     "metadata": {},
     "output_type": "execute_result"
    }
   ],
   "source": [
    "top5_loc_date = pd.read_csv('C:/Users/User/talkingdata/gender_age_train.csv',index_col=None)\n",
    "phone = pd.read_csv('C:/Users/User/talkingdata/phone_brand_device_model_traditional.csv',index_col=None)\n",
    "top5_loc_date = pd.merge(top5_loc_date,phone,how='inner',left_on='device_id',right_on='device_id')\n",
    "top5_loc_date.drop(['gender','age','Unnamed: 0','group','device_model'],inplace=True,axis=1)\n",
    "\n",
    "top5_list.reverse()\n",
    "print('Top5 brand: ',top5_list)\n",
    "top5_loc_date = top5_loc_date[top5_loc_date['phone_brand'].isin(top5_list)]\n",
    "print('top5_loc_date.shape: ',top5_loc_date.shape)\n",
    "top5_loc_date.head()"
   ]
  },
  {
   "cell_type": "markdown",
   "metadata": {},
   "source": [
    "#### data processing 2 : merge by device_id (locations)"
   ]
  },
  {
   "cell_type": "code",
   "execution_count": 33,
   "metadata": {},
   "outputs": [
    {
     "name": "stdout",
     "output_type": "stream",
     "text": [
      "top5_loc.shape:  (10558, 4)\n"
     ]
    },
    {
     "data": {
      "text/html": [
       "<div>\n",
       "<style scoped>\n",
       "    .dataframe tbody tr th:only-of-type {\n",
       "        vertical-align: middle;\n",
       "    }\n",
       "\n",
       "    .dataframe tbody tr th {\n",
       "        vertical-align: top;\n",
       "    }\n",
       "\n",
       "    .dataframe thead th {\n",
       "        text-align: right;\n",
       "    }\n",
       "</style>\n",
       "<table border=\"1\" class=\"dataframe\">\n",
       "  <thead>\n",
       "    <tr style=\"text-align: right;\">\n",
       "      <th></th>\n",
       "      <th>device_id</th>\n",
       "      <th>phone_brand</th>\n",
       "      <th>longitude</th>\n",
       "      <th>latitude</th>\n",
       "    </tr>\n",
       "  </thead>\n",
       "  <tbody>\n",
       "    <tr>\n",
       "      <th>0</th>\n",
       "      <td>-7882183570062087941</td>\n",
       "      <td>vivo</td>\n",
       "      <td>117.55</td>\n",
       "      <td>33.53</td>\n",
       "    </tr>\n",
       "    <tr>\n",
       "      <th>9</th>\n",
       "      <td>-7882183570062087941</td>\n",
       "      <td>vivo</td>\n",
       "      <td>0.00</td>\n",
       "      <td>0.00</td>\n",
       "    </tr>\n",
       "    <tr>\n",
       "      <th>27</th>\n",
       "      <td>-7882183570062087941</td>\n",
       "      <td>vivo</td>\n",
       "      <td>117.55</td>\n",
       "      <td>33.54</td>\n",
       "    </tr>\n",
       "    <tr>\n",
       "      <th>233</th>\n",
       "      <td>-7882183570062087941</td>\n",
       "      <td>vivo</td>\n",
       "      <td>117.56</td>\n",
       "      <td>33.53</td>\n",
       "    </tr>\n",
       "    <tr>\n",
       "      <th>558</th>\n",
       "      <td>-2999736920417270580</td>\n",
       "      <td>OPPO</td>\n",
       "      <td>114.03</td>\n",
       "      <td>30.62</td>\n",
       "    </tr>\n",
       "  </tbody>\n",
       "</table>\n",
       "</div>"
      ],
      "text/plain": [
       "               device_id phone_brand  longitude  latitude\n",
       "0   -7882183570062087941        vivo     117.55     33.53\n",
       "9   -7882183570062087941        vivo       0.00      0.00\n",
       "27  -7882183570062087941        vivo     117.55     33.54\n",
       "233 -7882183570062087941        vivo     117.56     33.53\n",
       "558 -2999736920417270580        OPPO     114.03     30.62"
      ]
     },
     "execution_count": 33,
     "metadata": {},
     "output_type": "execute_result"
    }
   ],
   "source": [
    "top5_loc_date = pd.merge(top5_loc_date,positions,on='device_id',how='inner')\n",
    "top5_loc_date.drop_duplicates(inplace=True)\n",
    "top5_loc = top5_loc_date.drop('timestamp',axis=1)\n",
    "top5_loc.drop_duplicates(inplace=True)\n",
    "print('top5_loc.shape: ',top5_loc.shape)\n",
    "top5_loc.head()"
   ]
  },
  {
   "cell_type": "markdown",
   "metadata": {},
   "source": [
    "#### data processing 3 : convert to list"
   ]
  },
  {
   "cell_type": "code",
   "execution_count": 34,
   "metadata": {},
   "outputs": [
    {
     "name": "stdout",
     "output_type": "stream",
     "text": [
      "length:  10558\n"
     ]
    },
    {
     "data": {
      "text/plain": [
       "[33.53, 117.55]"
      ]
     },
     "execution_count": 34,
     "metadata": {},
     "output_type": "execute_result"
    }
   ],
   "source": [
    "locations_top5=[]\n",
    "for i in range(top5_loc['longitude'].shape[0]):\n",
    "    locations_top5.append([top5_loc['latitude'].values[i],top5_loc['longitude'].values[i]])\n",
    "\n",
    "print('length: ',len(locations_top5))\n",
    "locations_top5[0]"
   ]
  },
  {
   "cell_type": "markdown",
   "metadata": {},
   "source": [
    "#### heatmap"
   ]
  },
  {
   "cell_type": "code",
   "execution_count": null,
   "metadata": {},
   "outputs": [],
   "source": [
    "fmap = folium.Map(location=[30, 120],zoom_start=3,tiles='stamentoner')\n",
    "fmap.add_child(HeatMap(data = locations_top5))\n",
    "fmap.save('top5_phoneBrand_heatmap.html')\n",
    "fmap"
   ]
  },
  {
   "cell_type": "markdown",
   "metadata": {},
   "source": [
    "### Top5 Phone_Brand and Date Distribution HeatMap "
   ]
  },
  {
   "cell_type": "markdown",
   "metadata": {},
   "source": [
    "#### add 'date' column"
   ]
  },
  {
   "cell_type": "code",
   "execution_count": 36,
   "metadata": {},
   "outputs": [
    {
     "data": {
      "text/html": [
       "<div>\n",
       "<style scoped>\n",
       "    .dataframe tbody tr th:only-of-type {\n",
       "        vertical-align: middle;\n",
       "    }\n",
       "\n",
       "    .dataframe tbody tr th {\n",
       "        vertical-align: top;\n",
       "    }\n",
       "\n",
       "    .dataframe thead th {\n",
       "        text-align: right;\n",
       "    }\n",
       "</style>\n",
       "<table border=\"1\" class=\"dataframe\">\n",
       "  <thead>\n",
       "    <tr style=\"text-align: right;\">\n",
       "      <th></th>\n",
       "      <th>device_id</th>\n",
       "      <th>phone_brand</th>\n",
       "      <th>timestamp</th>\n",
       "      <th>longitude</th>\n",
       "      <th>latitude</th>\n",
       "      <th>date</th>\n",
       "      <th>time</th>\n",
       "    </tr>\n",
       "  </thead>\n",
       "  <tbody>\n",
       "    <tr>\n",
       "      <th>0</th>\n",
       "      <td>-7882183570062087941</td>\n",
       "      <td>vivo</td>\n",
       "      <td>2016-05-01 11:49:33</td>\n",
       "      <td>117.55</td>\n",
       "      <td>33.53</td>\n",
       "      <td>2016-05-01</td>\n",
       "      <td>11:49:33</td>\n",
       "    </tr>\n",
       "    <tr>\n",
       "      <th>1</th>\n",
       "      <td>-7882183570062087941</td>\n",
       "      <td>vivo</td>\n",
       "      <td>2016-05-02 15:15:23</td>\n",
       "      <td>117.55</td>\n",
       "      <td>33.53</td>\n",
       "      <td>2016-05-02</td>\n",
       "      <td>15:15:23</td>\n",
       "    </tr>\n",
       "    <tr>\n",
       "      <th>2</th>\n",
       "      <td>-7882183570062087941</td>\n",
       "      <td>vivo</td>\n",
       "      <td>2016-05-02 15:15:50</td>\n",
       "      <td>117.55</td>\n",
       "      <td>33.53</td>\n",
       "      <td>2016-05-02</td>\n",
       "      <td>15:15:50</td>\n",
       "    </tr>\n",
       "    <tr>\n",
       "      <th>3</th>\n",
       "      <td>-7882183570062087941</td>\n",
       "      <td>vivo</td>\n",
       "      <td>2016-05-04 18:51:09</td>\n",
       "      <td>117.55</td>\n",
       "      <td>33.53</td>\n",
       "      <td>2016-05-04</td>\n",
       "      <td>18:51:09</td>\n",
       "    </tr>\n",
       "    <tr>\n",
       "      <th>4</th>\n",
       "      <td>-7882183570062087941</td>\n",
       "      <td>vivo</td>\n",
       "      <td>2016-05-03 21:38:13</td>\n",
       "      <td>117.55</td>\n",
       "      <td>33.53</td>\n",
       "      <td>2016-05-03</td>\n",
       "      <td>21:38:13</td>\n",
       "    </tr>\n",
       "  </tbody>\n",
       "</table>\n",
       "</div>"
      ],
      "text/plain": [
       "             device_id phone_brand            timestamp  longitude  latitude  \\\n",
       "0 -7882183570062087941        vivo  2016-05-01 11:49:33     117.55     33.53   \n",
       "1 -7882183570062087941        vivo  2016-05-02 15:15:23     117.55     33.53   \n",
       "2 -7882183570062087941        vivo  2016-05-02 15:15:50     117.55     33.53   \n",
       "3 -7882183570062087941        vivo  2016-05-04 18:51:09     117.55     33.53   \n",
       "4 -7882183570062087941        vivo  2016-05-03 21:38:13     117.55     33.53   \n",
       "\n",
       "         date      time  \n",
       "0  2016-05-01  11:49:33  \n",
       "1  2016-05-02  15:15:23  \n",
       "2  2016-05-02  15:15:50  \n",
       "3  2016-05-04  18:51:09  \n",
       "4  2016-05-03  21:38:13  "
      ]
     },
     "execution_count": 36,
     "metadata": {},
     "output_type": "execute_result"
    }
   ],
   "source": [
    "top5_date = top5_loc_date.copy()\n",
    "top5_date['date'],top5_date['time'] = top5_date['timestamp'].str.split(' ',1).str\n",
    "top5_date.head()"
   ]
  },
  {
   "cell_type": "markdown",
   "metadata": {},
   "source": [
    "#### extract date list"
   ]
  },
  {
   "cell_type": "code",
   "execution_count": 37,
   "metadata": {},
   "outputs": [
    {
     "data": {
      "text/plain": [
       "array(['2016-04-30', '2016-05-01', '2016-05-02', '2016-05-03',\n",
       "       '2016-05-04', '2016-05-05', '2016-05-06', '2016-05-07'],\n",
       "      dtype=object)"
      ]
     },
     "execution_count": 37,
     "metadata": {},
     "output_type": "execute_result"
    }
   ],
   "source": [
    "date_list = top5_date['date'].unique()\n",
    "date_list.sort()\n",
    "date_list"
   ]
  },
  {
   "cell_type": "markdown",
   "metadata": {},
   "source": [
    "#### split tables according date and save to list"
   ]
  },
  {
   "cell_type": "code",
   "execution_count": 38,
   "metadata": {},
   "outputs": [
    {
     "data": {
      "text/plain": [
       "8"
      ]
     },
     "execution_count": 38,
     "metadata": {},
     "output_type": "execute_result"
    }
   ],
   "source": [
    "def date_split(dataframe,i):\n",
    "    data = dataframe[dataframe['date']==date_list[i]]\n",
    "    return data\n",
    "\n",
    "list_df=[]\n",
    "for i in range(8):\n",
    "    list_df.append(date_split(top5_date,i))\n",
    "len(list_df)"
   ]
  },
  {
   "cell_type": "markdown",
   "metadata": {},
   "source": [
    "#### data processing"
   ]
  },
  {
   "cell_type": "code",
   "execution_count": 39,
   "metadata": {},
   "outputs": [
    {
     "name": "stdout",
     "output_type": "stream",
     "text": [
      "data length:  8\n"
     ]
    },
    {
     "data": {
      "text/plain": [
       "[26.14, 108.42]"
      ]
     },
     "execution_count": 39,
     "metadata": {},
     "output_type": "execute_result"
    }
   ],
   "source": [
    "locations_date_top5=[]\n",
    "for j in range(len(date_list)):\n",
    "    tem_list=[]\n",
    "    for i in range(list_df[j]['longitude'].shape[0]):\n",
    "        tem_list.append([list_df[j]['latitude'].values[i],list_df[j]['longitude'].values[i]])\n",
    "    locations_date_top5.append(tem_list)\n",
    "\n",
    "print('data length: ',len(locations_date_top5))\n",
    "locations_date_top5[0][0]"
   ]
  },
  {
   "cell_type": "markdown",
   "metadata": {},
   "source": [
    "#### HeatMap with time series"
   ]
  },
  {
   "cell_type": "code",
   "execution_count": null,
   "metadata": {},
   "outputs": [],
   "source": [
    "fmap = folium.Map(location=[32,120],zoom_start=6,tiles='stamentoner')\n",
    "fmap.add_child(HeatMapWithTime(data=locations_date_top5))\n",
    "fmap.save('top5_phoneBrand_heatmapwithtime.html')"
   ]
  },
  {
   "cell_type": "markdown",
   "metadata": {},
   "source": [
    "#### plot with time series"
   ]
  },
  {
   "cell_type": "code",
   "execution_count": 96,
   "metadata": {},
   "outputs": [
    {
     "name": "stdout",
     "output_type": "stream",
     "text": [
      "Monday to Sunday counts of users:  [28801, 27456, 26761, 26803, 26196, 25839, 26327]\n"
     ]
    },
    {
     "data": {
      "image/png": "[encoded data removed]",
      "text/plain": [
       "<Figure size 864x432 with 1 Axes>"
      ]
     },
     "metadata": {},
     "output_type": "display_data"
    }
   ],
   "source": [
    "num_users=[]\n",
    "for i in range(2,8):\n",
    "    num_users.append(len(list_df[i]))\n",
    "num_users.append(len(list_df[1]))\n",
    "print('Monday to Sunday counts of users: ',num_users)\n",
    "\n",
    "fig,ax = plt.subplots()\n",
    "plt.plot(num_users)\n",
    "x_labels=['Monday','Tuesday','Wednesday', 'Thursday', 'Friday', 'Saturday', 'Sunday']\n",
    "plt.xticks(np.arange(7),x_labels)\n",
    "plt.title('The users number of changes during the week',fontsize=14)\n",
    "for i in range(7):\n",
    "    plt.text(i,num_users[i]+150,str(x_labels[i]) +'\\n'+str(num_users[i]),fontsize=12)\n",
    "ax.set_ybound(25500,29500)\n",
    "fig.set_figheight(6)\n",
    "fig.set_figwidth(12)\n",
    "plt.savefig('The users number of changes during the week',dpi=600)\n",
    "plt.show()"
   ]
  }
 ],
 "metadata": {
  "kernelspec": {
   "display_name": "Python 3",
   "language": "python",
   "name": "python3"
  },
  "language_info": {
   "codemirror_mode": {
    "name": "ipython",
    "version": 3
   },
   "file_extension": ".py",
   "mimetype": "text/x-python",
   "name": "python",
   "nbconvert_exporter": "python",
   "pygments_lexer": "ipython3",
   "version": "3.6.5"
  }
 },
 "nbformat": 4,
 "nbformat_minor": 2
}
