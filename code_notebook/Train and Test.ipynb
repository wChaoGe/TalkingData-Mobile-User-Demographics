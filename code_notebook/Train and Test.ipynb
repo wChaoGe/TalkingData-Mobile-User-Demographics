{
 "cells": [
  {
   "cell_type": "code",
   "execution_count": 2,
   "metadata": {},
   "outputs": [],
   "source": [
    "import numpy as np\n",
    "import pandas as pd"
   ]
  },
  {
   "cell_type": "markdown",
   "metadata": {},
   "source": [
    "## Read Files"
   ]
  },
  {
   "cell_type": "code",
   "execution_count": null,
   "metadata": {},
   "outputs": [],
   "source": [
    "df_train = pd.read_csv(\"gender_age_train.csv\")\n",
    "df_test = pd.read_csv(\"gender_age_test.csv\")"
   ]
  },
  {
   "cell_type": "markdown",
   "metadata": {},
   "source": [
    "## Checking Data"
   ]
  },
  {
   "cell_type": "markdown",
   "metadata": {},
   "source": [
    "### Train data"
   ]
  },
  {
   "cell_type": "code",
   "execution_count": null,
   "metadata": {},
   "outputs": [],
   "source": [
    "print('df_train.shape: ',df_train.shape)\n",
    "print('Numbers of duplicated data:', df_train.duplicated('device_id').sum())\n",
    "print('missing data: ',df_train.isnull().any())"
   ]
  },
  {
   "cell_type": "markdown",
   "metadata": {},
   "source": [
    "### Test data"
   ]
  },
  {
   "cell_type": "code",
   "execution_count": null,
   "metadata": {},
   "outputs": [],
   "source": [
    "print('df_test.shape: ',df_test.shape)\n",
    "print('Numbers of duplicated data:', df_test.duplicated('device_id').sum())\n",
    "print('missing data: ',df_test.isnull().any())"
   ]
  },
  {
   "cell_type": "markdown",
   "metadata": {},
   "source": [
    "## Merge phone_brand"
   ]
  },
  {
   "cell_type": "markdown",
   "metadata": {},
   "source": [
    "### Train data"
   ]
  },
  {
   "cell_type": "code",
   "execution_count": null,
   "metadata": {},
   "outputs": [],
   "source": [
    "df_brand = pd.read_csv(\"phone_brand_matrix.csv\")\n",
    "df_train_x = pd.merge(df_train,df_brand, on='device_id', how='left')\n",
    "df_train_x.set_index('device_id', inplace=True)\n",
    "df_train_x.shape"
   ]
  },
  {
   "cell_type": "markdown",
   "metadata": {},
   "source": [
    "#### create train_y"
   ]
  },
  {
   "cell_type": "code",
   "execution_count": null,
   "metadata": {},
   "outputs": [],
   "source": [
    "train_y = df_train_x['group']\n",
    "train_y.to_csv('../model/train_y.csv', index=False)\n",
    "train_y.head()"
   ]
  },
  {
   "cell_type": "code",
   "execution_count": null,
   "metadata": {},
   "outputs": [],
   "source": [
    "df_train_x.drop(columns=['gender', 'age', 'group'], inplace=True)\n",
    "df_train_x.head()"
   ]
  },
  {
   "cell_type": "markdown",
   "metadata": {},
   "source": [
    "### Test data"
   ]
  },
  {
   "cell_type": "code",
   "execution_count": null,
   "metadata": {},
   "outputs": [],
   "source": [
    "df_test_x = pd.merge(df_test,df_brand, on='device_id', how='left')\n",
    "df_test_x.set_index('device_id', inplace=True)\n",
    "print(df_test_x.shape)\n",
    "df_test_x.head()"
   ]
  },
  {
   "cell_type": "markdown",
   "metadata": {},
   "source": [
    "## Merge label_matrix"
   ]
  },
  {
   "cell_type": "code",
   "execution_count": null,
   "metadata": {},
   "outputs": [],
   "source": [
    "df_label = pd.read_csv('../model/label_matrix.csv',  index_col='device_id')\n",
    "\n",
    "df_train_x = df_train_x.join(df_label, how='left')\n",
    "print(df_train_x.shape)\n",
    "\n",
    "df_test_x = df_test_x.join(df_label, how='left')\n",
    "print(df_test_x.shape)"
   ]
  },
  {
   "cell_type": "markdown",
   "metadata": {},
   "source": [
    "### fill in missing data"
   ]
  },
  {
   "cell_type": "code",
   "execution_count": null,
   "metadata": {},
   "outputs": [],
   "source": [
    "df_train_x.fillna(0, inplace=True)\n",
    "print('Missing value of df_train_x:', df_train_x.isnull().any().sum())\n",
    "\n",
    "df_test_x.fillna(0, inplace=True)\n",
    "print('Missing value of df_test_x',df_test_x.isnull().any().sum())"
   ]
  },
  {
   "cell_type": "markdown",
   "metadata": {},
   "source": [
    "## Merge app_matrix"
   ]
  },
  {
   "cell_type": "code",
   "execution_count": null,
   "metadata": {},
   "outputs": [],
   "source": [
    "df_app = pd.read_csv('../model/app_matrix.csv',  index_col='device_id')\n",
    "\n",
    "df_train_x = df_train_x.join(df_app, how='left')\n",
    "print(df_train_x.shape)\n",
    "\n",
    "df_test_x = df_test_x.join(df_app, how='left')\n",
    "print(df_test_x.shape)"
   ]
  },
  {
   "cell_type": "markdown",
   "metadata": {},
   "source": [
    "### fill in missing data"
   ]
  },
  {
   "cell_type": "code",
   "execution_count": null,
   "metadata": {},
   "outputs": [],
   "source": [
    "df_train_x.fillna(0, inplace=True)\n",
    "print('Missing value of df_train_x:', df_train_x.isnull().any().sum())\n",
    "\n",
    "df_test_x.fillna(0, inplace=True)\n",
    "print('Missing value of df_test_x',df_test_x.isnull().any().sum())"
   ]
  },
  {
   "cell_type": "markdown",
   "metadata": {},
   "source": [
    "## Save to CSV"
   ]
  },
  {
   "cell_type": "code",
   "execution_count": null,
   "metadata": {},
   "outputs": [],
   "source": [
    "df_train_x.to_csv('../model/train_x.csv')\n",
    "df_test_x.to_csv('../model/test_x.csv')"
   ]
  }
 ],
 "metadata": {
  "kernelspec": {
   "display_name": "Python 3",
   "language": "python",
   "name": "python3"
  },
  "language_info": {
   "codemirror_mode": {
    "name": "ipython",
    "version": 3
   },
   "file_extension": ".py",
   "mimetype": "text/x-python",
   "name": "python",
   "nbconvert_exporter": "python",
   "pygments_lexer": "ipython3",
   "version": "3.6.5"
  }
 },
 "nbformat": 4,
 "nbformat_minor": 2
}
