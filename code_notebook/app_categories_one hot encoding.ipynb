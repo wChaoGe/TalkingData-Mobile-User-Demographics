{
 "cells": [
  {
   "cell_type": "code",
   "execution_count": 1,
   "metadata": {},
   "outputs": [],
   "source": [
    "import numpy as np\n",
    "import pandas as pd "
   ]
  },
  {
   "cell_type": "markdown",
   "metadata": {},
   "source": [
    "## Read files"
   ]
  },
  {
   "cell_type": "code",
   "execution_count": 3,
   "metadata": {},
   "outputs": [],
   "source": [
    "url = 'C:/Users/User/talkingdata/'\n",
    "app_events = pd.read_csv(url + 'app_events.csv')\n",
    "app_labels = pd.read_csv(url + 'app_labels.csv')\n",
    "label_categories = pd.read_csv(url + 'label_categories.csv')"
   ]
  },
  {
   "cell_type": "code",
   "execution_count": null,
   "metadata": {},
   "outputs": [],
   "source": [
    "print(app_events.head(2),'\\n')\n",
    "print(app_labels.head(2),'\\n')\n",
    "print(events.head(2),'\\n')\n",
    "print(label_categories.head(2),'\\n')"
   ]
  },
  {
   "cell_type": "markdown",
   "metadata": {},
   "source": [
    "## Clean table app_labels.csv"
   ]
  },
  {
   "cell_type": "markdown",
   "metadata": {},
   "source": [
    "### Drop duplicated data"
   ]
  },
  {
   "cell_type": "code",
   "execution_count": null,
   "metadata": {},
   "outputs": [],
   "source": [
    "print('sum of duplicated data: ',app_labels.duplicated().sum())\n",
    "app_labels.drop_duplicates(inplace = True)\n",
    "print('shape: ',app_labels.shape)\n",
    "app_labels.head()"
   ]
  },
  {
   "cell_type": "markdown",
   "metadata": {},
   "source": [
    "### Check missing data"
   ]
  },
  {
   "cell_type": "code",
   "execution_count": null,
   "metadata": {},
   "outputs": [],
   "source": [
    "print('missing data: ',app_labels.isnull().any().sum())"
   ]
  },
  {
   "cell_type": "markdown",
   "metadata": {},
   "source": [
    "## Clean table label_categories.csv"
   ]
  },
  {
   "cell_type": "markdown",
   "metadata": {},
   "source": [
    "### Check duplicated data"
   ]
  },
  {
   "cell_type": "code",
   "execution_count": null,
   "metadata": {},
   "outputs": [],
   "source": [
    "print('duplicated data: ',label_categories.duplicated().sum())\n",
    "print('shape: ',label_categories.shape)\n",
    "label_categories.head()"
   ]
  },
  {
   "cell_type": "markdown",
   "metadata": {},
   "source": [
    "### Drop missing data"
   ]
  },
  {
   "cell_type": "code",
   "execution_count": null,
   "metadata": {},
   "outputs": [],
   "source": [
    "print('missing data:\\n',label_categories.isnull().sum())\n",
    "label_categories.dropna(inplace = True)\n",
    "print('\\nlabel_categories.shape: ',label_categories.shape)"
   ]
  },
  {
   "cell_type": "markdown",
   "metadata": {},
   "source": [
    "## Merge app_labels and label_categories "
   ]
  },
  {
   "cell_type": "code",
   "execution_count": null,
   "metadata": {},
   "outputs": [],
   "source": [
    "app_categories_mer = pd.merge(app_labels,label_categories,how = 'inner',on = 'label_id')\n",
    "app_categories_mer.drop(columns='label_id',inplace=True)\n",
    "print('app_categories_mer.shape: ',app_categories_mer.shape,'\\n')\n",
    "app_categories_mer.head()"
   ]
  },
  {
   "cell_type": "markdown",
   "metadata": {},
   "source": [
    "### one hot encoding"
   ]
  },
  {
   "cell_type": "code",
   "execution_count": null,
   "metadata": {},
   "outputs": [],
   "source": [
    "app_categories_mer = pd.get_dummies(app_categories_mer)\n",
    "print('app_categories_mer.shape: ',app_categories_mer.shape)\n",
    "app_categories_mer.head()"
   ]
  },
  {
   "cell_type": "markdown",
   "metadata": {},
   "source": [
    "### groupby app_id"
   ]
  },
  {
   "cell_type": "code",
   "execution_count": null,
   "metadata": {},
   "outputs": [],
   "source": [
    "app_categories_mer = app_categories_mer.groupby(['app_id']).sum()\n",
    "print('app_categories_mer.shape',app_categories_mer.shape)\n",
    "app_categories_mer.head()"
   ]
  },
  {
   "cell_type": "code",
   "execution_count": null,
   "metadata": {},
   "outputs": [],
   "source": [
    "import gc\n",
    "del app_labels\n",
    "del label_categories\n",
    "print(gc.collect())"
   ]
  },
  {
   "cell_type": "markdown",
   "metadata": {},
   "source": [
    "## Clean table app_events.csv"
   ]
  },
  {
   "cell_type": "code",
   "execution_count": null,
   "metadata": {},
   "outputs": [],
   "source": [
    "print('app_events.shape: ',app_events.shape)\n",
    "app_events.head()"
   ]
  },
  {
   "cell_type": "markdown",
   "metadata": {},
   "source": [
    "### Drop is_installed and is_active, filer by is_active == 1"
   ]
  },
  {
   "cell_type": "code",
   "execution_count": null,
   "metadata": {},
   "outputs": [],
   "source": [
    "app_events = app_events[app_events['is_active']==1]\n",
    "app_events.drop(['is_installed','is_active'],inplace = True,axis = 1)\n",
    "print('app_events.shape: ',app_events.shape)\n",
    "app_events.head()"
   ]
  },
  {
   "cell_type": "markdown",
   "metadata": {},
   "source": [
    "### Merge events"
   ]
  },
  {
   "cell_type": "code",
   "execution_count": null,
   "metadata": {},
   "outputs": [],
   "source": [
    "app_categories_mer.reset_index(inplace = True)\n",
    "df_events = pd.merge(app_events,app_categories_mer,how = 'inner',on = 'app_id')\n",
    "print('df_events.shape: ',df_events.shape)\n",
    "df_events.head()"
   ]
  },
  {
   "cell_type": "code",
   "execution_count": null,
   "metadata": {},
   "outputs": [],
   "source": [
    "import gc\n",
    "del app_events\n",
    "del app_categories_mer\n",
    "print(gc.collect())"
   ]
  },
  {
   "cell_type": "markdown",
   "metadata": {},
   "source": [
    "### drop app_id"
   ]
  },
  {
   "cell_type": "code",
   "execution_count": null,
   "metadata": {},
   "outputs": [],
   "source": [
    "df_events.drop(columns = ['app_id'],inplace = True)\n",
    "print('df_events.shape: ',df_events.shape)\n",
    "df_events.head()"
   ]
  },
  {
   "cell_type": "markdown",
   "metadata": {},
   "source": [
    "### write to csv"
   ]
  },
  {
   "cell_type": "code",
   "execution_count": null,
   "metadata": {},
   "outputs": [],
   "source": [
    "df_events.to_csv(url + 'model/df_events.csv')"
   ]
  },
  {
   "cell_type": "markdown",
   "metadata": {},
   "source": [
    "### Group by event_id"
   ]
  },
  {
   "cell_type": "markdown",
   "metadata": {},
   "source": [
    "#### sort by event_id"
   ]
  },
  {
   "cell_type": "code",
   "execution_count": null,
   "metadata": {},
   "outputs": [],
   "source": [
    "df_events = df_events.sort_values(['event_id'])\n",
    "df_events.head()"
   ]
  },
  {
   "cell_type": "markdown",
   "metadata": {},
   "source": [
    "#### Define Functions split-groupby-concat\n",
    "processing df_events.iloc[0:12700000, :]"
   ]
  },
  {
   "cell_type": "code",
   "execution_count": null,
   "metadata": {},
   "outputs": [],
   "source": [
    "# split table and to_csv\n",
    "def split_save(loops):\n",
    "    for i in range(loops):\n",
    "        temp = df_events.iloc[i*100000 : (i+1)*100000, :]\n",
    "        name = 'eventGroupby/df_events'+str(i+1)\n",
    "        temp.to_csv(url+name+'.csv')\n",
    "    return 'split finished'\n",
    "\n",
    "# group by events_id and to_csv\n",
    "def groupby_events_id(loops):\n",
    "    for i in range(loops):\n",
    "        name = 'eventGroupby/df_events_groupby'+str(i+1)\n",
    "        dataframe = pd.read_csv(url + 'eventGroupby/df_events' + str(i+1) + '.csv',index_col='event_id')\n",
    "        dataframe.drop(columns=['Unnamed: 0'],inplace=True)\n",
    "        dataframe = dataframe.groupby(['event_id']).sum()\n",
    "        dataframe.to_csv(url + name + '.csv')\n",
    "    return 'groupby finished'\n",
    "\n",
    "# concat table and to_csv\n",
    "def concat_table(loops):\n",
    "    L=[]\n",
    "    for i in range(loops):\n",
    "        L.append(pd.read_csv(url + 'eventGroupby/df_events_groupby' + str(i+1) + '.csv'))\n",
    "    dataframe = pd.concat(L,axis=0)\n",
    "    dataframe.to_csv(url + 'eventGroupby/df_events_concat.csv')\n",
    "    return 'concat table finished'"
   ]
  },
  {
   "cell_type": "code",
   "execution_count": null,
   "metadata": {},
   "outputs": [],
   "source": [
    "import gc\n",
    "print(gc.collect())"
   ]
  },
  {
   "cell_type": "markdown",
   "metadata": {},
   "source": [
    "#### Call functions\n",
    "processing df_events.iloc[0:12700000, : ]"
   ]
  },
  {
   "cell_type": "code",
   "execution_count": null,
   "metadata": {},
   "outputs": [],
   "source": [
    "split_save(127)\n",
    "groupby_events_id(127)\n",
    "concat_table(127)"
   ]
  },
  {
   "cell_type": "markdown",
   "metadata": {},
   "source": [
    "#### Read groupby and write to_csv\n",
    "processing df_events.iloc[12700000:12732996, : ]"
   ]
  },
  {
   "cell_type": "code",
   "execution_count": null,
   "metadata": {},
   "outputs": [],
   "source": [
    "df_events_last = df_events.iloc[12700000 : 12732997,:]\n",
    "df_events_last = df_events_last.groupby('event_id').sum()\n",
    "df_events_last.to_csv(url+'eventGroupby/df_events_last.csv')\n",
    "df_events_last.shape"
   ]
  },
  {
   "cell_type": "markdown",
   "metadata": {},
   "source": [
    "#### Read all split table"
   ]
  },
  {
   "cell_type": "code",
   "execution_count": null,
   "metadata": {},
   "outputs": [],
   "source": [
    "df_events_last = pd.read_csv(url+'eventGroupby/df_events_last.csv',index_col=None)\n",
    "df_events_concat = pd.read_csv(url+'eventGroupby/df_events_concat.csv',index_col=None)\n",
    "df_events_concat = df_events_concat.iloc[:,1:]\n",
    "print('df_events_concat.shape: ',df_events_concat.shape)\n",
    "print('df_events_last.shape: ',df_events_last.shape)"
   ]
  },
  {
   "cell_type": "markdown",
   "metadata": {},
   "source": [
    "#### concat  all slpit table"
   ]
  },
  {
   "cell_type": "code",
   "execution_count": null,
   "metadata": {},
   "outputs": [],
   "source": [
    "df_events_groupby = pd.concat((df_events_concat,df_events_last),axis=0)\n",
    "df_events_groupby.shape"
   ]
  },
  {
   "cell_type": "code",
   "execution_count": null,
   "metadata": {},
   "outputs": [],
   "source": [
    "import gc\n",
    "del df_events_concat\n",
    "del df_events_last\n",
    "print(gc.collect())"
   ]
  },
  {
   "cell_type": "markdown",
   "metadata": {},
   "source": [
    "#### groupby all split table"
   ]
  },
  {
   "cell_type": "code",
   "execution_count": null,
   "metadata": {},
   "outputs": [],
   "source": [
    "# check duplicated data\n",
    "df_events_groupby.duplicated(subset='event_id').sum() # if sum != 0, groupby again"
   ]
  },
  {
   "cell_type": "code",
   "execution_count": null,
   "metadata": {},
   "outputs": [],
   "source": [
    "df_events_groupby1 = df_events_groupby.iloc[:500000]\n",
    "df_events_groupby2 = df_events_groupby.iloc[500000:1000000]\n",
    "df_events_groupby3 = df_events_groupby.iloc[1000000:]\n",
    "\n",
    "df_events_groupby1 = df_events_groupby1.groupby('event_id').sum()\n",
    "df_events_groupby2 = df_events_groupby2.groupby('event_id').sum()\n",
    "df_events_groupby3 = df_events_groupby3.groupby('event_id').sum()\n",
    "\n",
    "df_events_groupby=pd.concat([df_events_groupby1,df_events_groupby2,df_events_groupby3],axis=0)\n",
    "df_events_groupby.head()"
   ]
  },
  {
   "cell_type": "markdown",
   "metadata": {},
   "source": [
    "#### write to_csv"
   ]
  },
  {
   "cell_type": "code",
   "execution_count": null,
   "metadata": {},
   "outputs": [],
   "source": [
    "df_events_groupby.to_csv(url+'eventGroupby/df_events_groupby.csv')"
   ]
  },
  {
   "cell_type": "markdown",
   "metadata": {},
   "source": [
    "## events"
   ]
  },
  {
   "cell_type": "markdown",
   "metadata": {},
   "source": [
    "### Readfiles"
   ]
  },
  {
   "cell_type": "code",
   "execution_count": null,
   "metadata": {},
   "outputs": [],
   "source": [
    "# df_events_groupby = pd.read_csv(url+'eventGroupby/df_events_groupby.csv')\n",
    "events = pd.read_csv(url + 'events.csv')\n",
    "print('events.shape: ',events.shape)\n",
    "events.head()"
   ]
  },
  {
   "cell_type": "markdown",
   "metadata": {},
   "source": [
    "### drop time and location"
   ]
  },
  {
   "cell_type": "code",
   "execution_count": null,
   "metadata": {},
   "outputs": [],
   "source": [
    "events.drop(['timestamp', 'longitude', 'latitude'], inplace = True, axis = 1)\n",
    "events.head()"
   ]
  },
  {
   "cell_type": "markdown",
   "metadata": {},
   "source": [
    "### Merge events on event_id"
   ]
  },
  {
   "cell_type": "code",
   "execution_count": null,
   "metadata": {},
   "outputs": [],
   "source": [
    "events = pd.merge(events,df_events_groupby, on = 'event_id', how = 'inner')\n",
    "print('events.shape: ',events.shape)\n",
    "events.head()"
   ]
  },
  {
   "cell_type": "code",
   "execution_count": null,
   "metadata": {},
   "outputs": [],
   "source": [
    "import gc\n",
    "del df_events_groupby\n",
    "print(gc.collect())"
   ]
  },
  {
   "cell_type": "markdown",
   "metadata": {},
   "source": [
    "### Drop event_id"
   ]
  },
  {
   "cell_type": "code",
   "execution_count": 4,
   "metadata": {},
   "outputs": [
    {
     "data": {
      "text/html": [
       "<div>\n",
       "<style scoped>\n",
       "    .dataframe tbody tr th:only-of-type {\n",
       "        vertical-align: middle;\n",
       "    }\n",
       "\n",
       "    .dataframe tbody tr th {\n",
       "        vertical-align: top;\n",
       "    }\n",
       "\n",
       "    .dataframe thead th {\n",
       "        text-align: right;\n",
       "    }\n",
       "</style>\n",
       "<table border=\"1\" class=\"dataframe\">\n",
       "  <thead>\n",
       "    <tr style=\"text-align: right;\">\n",
       "      <th></th>\n",
       "      <th>device_id</th>\n",
       "      <th>category_1 free</th>\n",
       "      <th>category_1 reputation</th>\n",
       "      <th>category_1 vitality</th>\n",
       "      <th>category_3 kindom game</th>\n",
       "      <th>category_80s Japanese comic</th>\n",
       "      <th>category_90s Japanese comic</th>\n",
       "      <th>category_A beauty care</th>\n",
       "      <th>category_A shares</th>\n",
       "      <th>category_ARPG</th>\n",
       "      <th>...</th>\n",
       "      <th>category_travel</th>\n",
       "      <th>category_tribe</th>\n",
       "      <th>category_trickery</th>\n",
       "      <th>category_unknown</th>\n",
       "      <th>category_video</th>\n",
       "      <th>category_violence comic</th>\n",
       "      <th>category_vitality</th>\n",
       "      <th>category_war chess</th>\n",
       "      <th>category_weibo</th>\n",
       "      <th>category_zombies game</th>\n",
       "    </tr>\n",
       "  </thead>\n",
       "  <tbody>\n",
       "    <tr>\n",
       "      <th>0</th>\n",
       "      <td>-6401643145415154744</td>\n",
       "      <td>0</td>\n",
       "      <td>0</td>\n",
       "      <td>0</td>\n",
       "      <td>0</td>\n",
       "      <td>0</td>\n",
       "      <td>0</td>\n",
       "      <td>0</td>\n",
       "      <td>0</td>\n",
       "      <td>0</td>\n",
       "      <td>...</td>\n",
       "      <td>0</td>\n",
       "      <td>0</td>\n",
       "      <td>0</td>\n",
       "      <td>0</td>\n",
       "      <td>0</td>\n",
       "      <td>0</td>\n",
       "      <td>0</td>\n",
       "      <td>0</td>\n",
       "      <td>0</td>\n",
       "      <td>0</td>\n",
       "    </tr>\n",
       "    <tr>\n",
       "      <th>1</th>\n",
       "      <td>1476664663289716375</td>\n",
       "      <td>1</td>\n",
       "      <td>1</td>\n",
       "      <td>0</td>\n",
       "      <td>0</td>\n",
       "      <td>0</td>\n",
       "      <td>0</td>\n",
       "      <td>0</td>\n",
       "      <td>0</td>\n",
       "      <td>0</td>\n",
       "      <td>...</td>\n",
       "      <td>0</td>\n",
       "      <td>0</td>\n",
       "      <td>0</td>\n",
       "      <td>7</td>\n",
       "      <td>1</td>\n",
       "      <td>0</td>\n",
       "      <td>0</td>\n",
       "      <td>0</td>\n",
       "      <td>0</td>\n",
       "      <td>0</td>\n",
       "    </tr>\n",
       "    <tr>\n",
       "      <th>2</th>\n",
       "      <td>5990807147117726237</td>\n",
       "      <td>0</td>\n",
       "      <td>0</td>\n",
       "      <td>0</td>\n",
       "      <td>0</td>\n",
       "      <td>0</td>\n",
       "      <td>0</td>\n",
       "      <td>0</td>\n",
       "      <td>0</td>\n",
       "      <td>0</td>\n",
       "      <td>...</td>\n",
       "      <td>0</td>\n",
       "      <td>0</td>\n",
       "      <td>0</td>\n",
       "      <td>3</td>\n",
       "      <td>0</td>\n",
       "      <td>0</td>\n",
       "      <td>0</td>\n",
       "      <td>0</td>\n",
       "      <td>1</td>\n",
       "      <td>0</td>\n",
       "    </tr>\n",
       "    <tr>\n",
       "      <th>3</th>\n",
       "      <td>-2073340001552902943</td>\n",
       "      <td>0</td>\n",
       "      <td>0</td>\n",
       "      <td>0</td>\n",
       "      <td>0</td>\n",
       "      <td>0</td>\n",
       "      <td>0</td>\n",
       "      <td>0</td>\n",
       "      <td>0</td>\n",
       "      <td>0</td>\n",
       "      <td>...</td>\n",
       "      <td>0</td>\n",
       "      <td>0</td>\n",
       "      <td>0</td>\n",
       "      <td>0</td>\n",
       "      <td>0</td>\n",
       "      <td>0</td>\n",
       "      <td>0</td>\n",
       "      <td>0</td>\n",
       "      <td>0</td>\n",
       "      <td>0</td>\n",
       "    </tr>\n",
       "    <tr>\n",
       "      <th>4</th>\n",
       "      <td>9070651185984875886</td>\n",
       "      <td>0</td>\n",
       "      <td>0</td>\n",
       "      <td>0</td>\n",
       "      <td>0</td>\n",
       "      <td>0</td>\n",
       "      <td>0</td>\n",
       "      <td>0</td>\n",
       "      <td>0</td>\n",
       "      <td>0</td>\n",
       "      <td>...</td>\n",
       "      <td>0</td>\n",
       "      <td>0</td>\n",
       "      <td>0</td>\n",
       "      <td>0</td>\n",
       "      <td>0</td>\n",
       "      <td>0</td>\n",
       "      <td>0</td>\n",
       "      <td>0</td>\n",
       "      <td>0</td>\n",
       "      <td>0</td>\n",
       "    </tr>\n",
       "  </tbody>\n",
       "</table>\n",
       "<p>5 rows × 474 columns</p>\n",
       "</div>"
      ],
      "text/plain": [
       "             device_id  category_1 free  category_1 reputation  \\\n",
       "0 -6401643145415154744                0                      0   \n",
       "1  1476664663289716375                1                      1   \n",
       "2  5990807147117726237                0                      0   \n",
       "3 -2073340001552902943                0                      0   \n",
       "4  9070651185984875886                0                      0   \n",
       "\n",
       "   category_1 vitality  category_3 kindom game  category_80s Japanese comic  \\\n",
       "0                    0                       0                            0   \n",
       "1                    0                       0                            0   \n",
       "2                    0                       0                            0   \n",
       "3                    0                       0                            0   \n",
       "4                    0                       0                            0   \n",
       "\n",
       "   category_90s Japanese comic  category_A beauty care  category_A shares  \\\n",
       "0                            0                       0                  0   \n",
       "1                            0                       0                  0   \n",
       "2                            0                       0                  0   \n",
       "3                            0                       0                  0   \n",
       "4                            0                       0                  0   \n",
       "\n",
       "   category_ARPG          ...            category_travel  category_tribe  \\\n",
       "0              0          ...                          0               0   \n",
       "1              0          ...                          0               0   \n",
       "2              0          ...                          0               0   \n",
       "3              0          ...                          0               0   \n",
       "4              0          ...                          0               0   \n",
       "\n",
       "   category_trickery  category_unknown  category_video  \\\n",
       "0                  0                 0               0   \n",
       "1                  0                 7               1   \n",
       "2                  0                 3               0   \n",
       "3                  0                 0               0   \n",
       "4                  0                 0               0   \n",
       "\n",
       "   category_violence comic  category_vitality  category_war chess  \\\n",
       "0                        0                  0                   0   \n",
       "1                        0                  0                   0   \n",
       "2                        0                  0                   0   \n",
       "3                        0                  0                   0   \n",
       "4                        0                  0                   0   \n",
       "\n",
       "   category_weibo  category_zombies game  \n",
       "0               0                      0  \n",
       "1               0                      0  \n",
       "2               1                      0  \n",
       "3               0                      0  \n",
       "4               0                      0  \n",
       "\n",
       "[5 rows x 474 columns]"
      ]
     },
     "execution_count": 4,
     "metadata": {},
     "output_type": "execute_result"
    }
   ],
   "source": [
    "events=pd.read_csv(url + 'model/app_matrix.csv',index_col=None)\n",
    "events.drop(['Unnamed: 0','event_id'],inplace = True, axis = 1)\n",
    "events.head()"
   ]
  },
  {
   "cell_type": "markdown",
   "metadata": {},
   "source": [
    "### Group by device_id"
   ]
  },
  {
   "cell_type": "code",
   "execution_count": 6,
   "metadata": {},
   "outputs": [
    {
     "name": "stdout",
     "output_type": "stream",
     "text": [
      "events.shape:  (60646, 473)\n"
     ]
    },
    {
     "data": {
      "text/html": [
       "<div>\n",
       "<style scoped>\n",
       "    .dataframe tbody tr th:only-of-type {\n",
       "        vertical-align: middle;\n",
       "    }\n",
       "\n",
       "    .dataframe tbody tr th {\n",
       "        vertical-align: top;\n",
       "    }\n",
       "\n",
       "    .dataframe thead th {\n",
       "        text-align: right;\n",
       "    }\n",
       "</style>\n",
       "<table border=\"1\" class=\"dataframe\">\n",
       "  <thead>\n",
       "    <tr style=\"text-align: right;\">\n",
       "      <th></th>\n",
       "      <th>category_1 free</th>\n",
       "      <th>category_1 reputation</th>\n",
       "      <th>category_1 vitality</th>\n",
       "      <th>category_3 kindom game</th>\n",
       "      <th>category_80s Japanese comic</th>\n",
       "      <th>category_90s Japanese comic</th>\n",
       "      <th>category_A beauty care</th>\n",
       "      <th>category_A shares</th>\n",
       "      <th>category_ARPG</th>\n",
       "      <th>category_Academic Information</th>\n",
       "      <th>...</th>\n",
       "      <th>category_travel</th>\n",
       "      <th>category_tribe</th>\n",
       "      <th>category_trickery</th>\n",
       "      <th>category_unknown</th>\n",
       "      <th>category_video</th>\n",
       "      <th>category_violence comic</th>\n",
       "      <th>category_vitality</th>\n",
       "      <th>category_war chess</th>\n",
       "      <th>category_weibo</th>\n",
       "      <th>category_zombies game</th>\n",
       "    </tr>\n",
       "    <tr>\n",
       "      <th>device_id</th>\n",
       "      <th></th>\n",
       "      <th></th>\n",
       "      <th></th>\n",
       "      <th></th>\n",
       "      <th></th>\n",
       "      <th></th>\n",
       "      <th></th>\n",
       "      <th></th>\n",
       "      <th></th>\n",
       "      <th></th>\n",
       "      <th></th>\n",
       "      <th></th>\n",
       "      <th></th>\n",
       "      <th></th>\n",
       "      <th></th>\n",
       "      <th></th>\n",
       "      <th></th>\n",
       "      <th></th>\n",
       "      <th></th>\n",
       "      <th></th>\n",
       "      <th></th>\n",
       "    </tr>\n",
       "  </thead>\n",
       "  <tbody>\n",
       "    <tr>\n",
       "      <th>-9222956879900151005</th>\n",
       "      <td>0</td>\n",
       "      <td>16</td>\n",
       "      <td>0</td>\n",
       "      <td>0</td>\n",
       "      <td>0</td>\n",
       "      <td>0</td>\n",
       "      <td>0</td>\n",
       "      <td>0</td>\n",
       "      <td>0</td>\n",
       "      <td>0</td>\n",
       "      <td>...</td>\n",
       "      <td>0</td>\n",
       "      <td>0</td>\n",
       "      <td>0</td>\n",
       "      <td>244</td>\n",
       "      <td>0</td>\n",
       "      <td>0</td>\n",
       "      <td>0</td>\n",
       "      <td>0</td>\n",
       "      <td>0</td>\n",
       "      <td>0</td>\n",
       "    </tr>\n",
       "    <tr>\n",
       "      <th>-9222661944218806987</th>\n",
       "      <td>7</td>\n",
       "      <td>0</td>\n",
       "      <td>0</td>\n",
       "      <td>0</td>\n",
       "      <td>0</td>\n",
       "      <td>0</td>\n",
       "      <td>0</td>\n",
       "      <td>0</td>\n",
       "      <td>0</td>\n",
       "      <td>0</td>\n",
       "      <td>...</td>\n",
       "      <td>0</td>\n",
       "      <td>0</td>\n",
       "      <td>0</td>\n",
       "      <td>6</td>\n",
       "      <td>0</td>\n",
       "      <td>0</td>\n",
       "      <td>0</td>\n",
       "      <td>0</td>\n",
       "      <td>0</td>\n",
       "      <td>0</td>\n",
       "    </tr>\n",
       "    <tr>\n",
       "      <th>-9222399302879214035</th>\n",
       "      <td>0</td>\n",
       "      <td>0</td>\n",
       "      <td>0</td>\n",
       "      <td>0</td>\n",
       "      <td>0</td>\n",
       "      <td>0</td>\n",
       "      <td>0</td>\n",
       "      <td>0</td>\n",
       "      <td>0</td>\n",
       "      <td>0</td>\n",
       "      <td>...</td>\n",
       "      <td>0</td>\n",
       "      <td>0</td>\n",
       "      <td>0</td>\n",
       "      <td>40</td>\n",
       "      <td>0</td>\n",
       "      <td>0</td>\n",
       "      <td>0</td>\n",
       "      <td>0</td>\n",
       "      <td>0</td>\n",
       "      <td>0</td>\n",
       "    </tr>\n",
       "    <tr>\n",
       "      <th>-9221825537663503111</th>\n",
       "      <td>28</td>\n",
       "      <td>0</td>\n",
       "      <td>0</td>\n",
       "      <td>0</td>\n",
       "      <td>0</td>\n",
       "      <td>0</td>\n",
       "      <td>0</td>\n",
       "      <td>0</td>\n",
       "      <td>0</td>\n",
       "      <td>0</td>\n",
       "      <td>...</td>\n",
       "      <td>0</td>\n",
       "      <td>0</td>\n",
       "      <td>0</td>\n",
       "      <td>20</td>\n",
       "      <td>45</td>\n",
       "      <td>0</td>\n",
       "      <td>0</td>\n",
       "      <td>0</td>\n",
       "      <td>0</td>\n",
       "      <td>0</td>\n",
       "    </tr>\n",
       "    <tr>\n",
       "      <th>-9221767098072603291</th>\n",
       "      <td>5</td>\n",
       "      <td>6</td>\n",
       "      <td>0</td>\n",
       "      <td>0</td>\n",
       "      <td>0</td>\n",
       "      <td>0</td>\n",
       "      <td>0</td>\n",
       "      <td>0</td>\n",
       "      <td>0</td>\n",
       "      <td>0</td>\n",
       "      <td>...</td>\n",
       "      <td>0</td>\n",
       "      <td>0</td>\n",
       "      <td>0</td>\n",
       "      <td>46</td>\n",
       "      <td>2</td>\n",
       "      <td>0</td>\n",
       "      <td>0</td>\n",
       "      <td>0</td>\n",
       "      <td>0</td>\n",
       "      <td>0</td>\n",
       "    </tr>\n",
       "  </tbody>\n",
       "</table>\n",
       "<p>5 rows × 473 columns</p>\n",
       "</div>"
      ],
      "text/plain": [
       "                      category_1 free  category_1 reputation  \\\n",
       "device_id                                                      \n",
       "-9222956879900151005                0                     16   \n",
       "-9222661944218806987                7                      0   \n",
       "-9222399302879214035                0                      0   \n",
       "-9221825537663503111               28                      0   \n",
       "-9221767098072603291                5                      6   \n",
       "\n",
       "                      category_1 vitality  category_3 kindom game  \\\n",
       "device_id                                                           \n",
       "-9222956879900151005                    0                       0   \n",
       "-9222661944218806987                    0                       0   \n",
       "-9222399302879214035                    0                       0   \n",
       "-9221825537663503111                    0                       0   \n",
       "-9221767098072603291                    0                       0   \n",
       "\n",
       "                      category_80s Japanese comic  \\\n",
       "device_id                                           \n",
       "-9222956879900151005                            0   \n",
       "-9222661944218806987                            0   \n",
       "-9222399302879214035                            0   \n",
       "-9221825537663503111                            0   \n",
       "-9221767098072603291                            0   \n",
       "\n",
       "                      category_90s Japanese comic  category_A beauty care  \\\n",
       "device_id                                                                   \n",
       "-9222956879900151005                            0                       0   \n",
       "-9222661944218806987                            0                       0   \n",
       "-9222399302879214035                            0                       0   \n",
       "-9221825537663503111                            0                       0   \n",
       "-9221767098072603291                            0                       0   \n",
       "\n",
       "                      category_A shares  category_ARPG  \\\n",
       "device_id                                                \n",
       "-9222956879900151005                  0              0   \n",
       "-9222661944218806987                  0              0   \n",
       "-9222399302879214035                  0              0   \n",
       "-9221825537663503111                  0              0   \n",
       "-9221767098072603291                  0              0   \n",
       "\n",
       "                      category_Academic Information          ...            \\\n",
       "device_id                                                    ...             \n",
       "-9222956879900151005                              0          ...             \n",
       "-9222661944218806987                              0          ...             \n",
       "-9222399302879214035                              0          ...             \n",
       "-9221825537663503111                              0          ...             \n",
       "-9221767098072603291                              0          ...             \n",
       "\n",
       "                      category_travel  category_tribe  category_trickery  \\\n",
       "device_id                                                                  \n",
       "-9222956879900151005                0               0                  0   \n",
       "-9222661944218806987                0               0                  0   \n",
       "-9222399302879214035                0               0                  0   \n",
       "-9221825537663503111                0               0                  0   \n",
       "-9221767098072603291                0               0                  0   \n",
       "\n",
       "                      category_unknown  category_video  \\\n",
       "device_id                                                \n",
       "-9222956879900151005               244               0   \n",
       "-9222661944218806987                 6               0   \n",
       "-9222399302879214035                40               0   \n",
       "-9221825537663503111                20              45   \n",
       "-9221767098072603291                46               2   \n",
       "\n",
       "                      category_violence comic  category_vitality  \\\n",
       "device_id                                                          \n",
       "-9222956879900151005                        0                  0   \n",
       "-9222661944218806987                        0                  0   \n",
       "-9222399302879214035                        0                  0   \n",
       "-9221825537663503111                        0                  0   \n",
       "-9221767098072603291                        0                  0   \n",
       "\n",
       "                      category_war chess  category_weibo  \\\n",
       "device_id                                                  \n",
       "-9222956879900151005                   0               0   \n",
       "-9222661944218806987                   0               0   \n",
       "-9222399302879214035                   0               0   \n",
       "-9221825537663503111                   0               0   \n",
       "-9221767098072603291                   0               0   \n",
       "\n",
       "                      category_zombies game  \n",
       "device_id                                    \n",
       "-9222956879900151005                      0  \n",
       "-9222661944218806987                      0  \n",
       "-9222399302879214035                      0  \n",
       "-9221825537663503111                      0  \n",
       "-9221767098072603291                      0  \n",
       "\n",
       "[5 rows x 473 columns]"
      ]
     },
     "execution_count": 6,
     "metadata": {},
     "output_type": "execute_result"
    }
   ],
   "source": [
    "events = events.groupby(['device_id']).sum()\n",
    "print('events.shape: ',events.shape)\n",
    "events.head()"
   ]
  },
  {
   "cell_type": "markdown",
   "metadata": {},
   "source": [
    "### Transfer non-zero numbers to one "
   ]
  },
  {
   "cell_type": "code",
   "execution_count": 10,
   "metadata": {},
   "outputs": [
    {
     "data": {
      "text/html": [
       "<div>\n",
       "<style scoped>\n",
       "    .dataframe tbody tr th:only-of-type {\n",
       "        vertical-align: middle;\n",
       "    }\n",
       "\n",
       "    .dataframe tbody tr th {\n",
       "        vertical-align: top;\n",
       "    }\n",
       "\n",
       "    .dataframe thead th {\n",
       "        text-align: right;\n",
       "    }\n",
       "</style>\n",
       "<table border=\"1\" class=\"dataframe\">\n",
       "  <thead>\n",
       "    <tr style=\"text-align: right;\">\n",
       "      <th></th>\n",
       "      <th>category_1 free</th>\n",
       "      <th>category_1 reputation</th>\n",
       "      <th>category_1 vitality</th>\n",
       "      <th>category_3 kindom game</th>\n",
       "      <th>category_80s Japanese comic</th>\n",
       "      <th>category_90s Japanese comic</th>\n",
       "      <th>category_A beauty care</th>\n",
       "      <th>category_A shares</th>\n",
       "      <th>category_ARPG</th>\n",
       "      <th>category_Academic Information</th>\n",
       "      <th>...</th>\n",
       "      <th>category_travel</th>\n",
       "      <th>category_tribe</th>\n",
       "      <th>category_trickery</th>\n",
       "      <th>category_unknown</th>\n",
       "      <th>category_video</th>\n",
       "      <th>category_violence comic</th>\n",
       "      <th>category_vitality</th>\n",
       "      <th>category_war chess</th>\n",
       "      <th>category_weibo</th>\n",
       "      <th>category_zombies game</th>\n",
       "    </tr>\n",
       "    <tr>\n",
       "      <th>device_id</th>\n",
       "      <th></th>\n",
       "      <th></th>\n",
       "      <th></th>\n",
       "      <th></th>\n",
       "      <th></th>\n",
       "      <th></th>\n",
       "      <th></th>\n",
       "      <th></th>\n",
       "      <th></th>\n",
       "      <th></th>\n",
       "      <th></th>\n",
       "      <th></th>\n",
       "      <th></th>\n",
       "      <th></th>\n",
       "      <th></th>\n",
       "      <th></th>\n",
       "      <th></th>\n",
       "      <th></th>\n",
       "      <th></th>\n",
       "      <th></th>\n",
       "      <th></th>\n",
       "    </tr>\n",
       "  </thead>\n",
       "  <tbody>\n",
       "    <tr>\n",
       "      <th>-9222956879900151005</th>\n",
       "      <td>0</td>\n",
       "      <td>1</td>\n",
       "      <td>0</td>\n",
       "      <td>0</td>\n",
       "      <td>0</td>\n",
       "      <td>0</td>\n",
       "      <td>0</td>\n",
       "      <td>0</td>\n",
       "      <td>0</td>\n",
       "      <td>0</td>\n",
       "      <td>...</td>\n",
       "      <td>0</td>\n",
       "      <td>0</td>\n",
       "      <td>0</td>\n",
       "      <td>1</td>\n",
       "      <td>0</td>\n",
       "      <td>0</td>\n",
       "      <td>0</td>\n",
       "      <td>0</td>\n",
       "      <td>0</td>\n",
       "      <td>0</td>\n",
       "    </tr>\n",
       "    <tr>\n",
       "      <th>-9222661944218806987</th>\n",
       "      <td>1</td>\n",
       "      <td>0</td>\n",
       "      <td>0</td>\n",
       "      <td>0</td>\n",
       "      <td>0</td>\n",
       "      <td>0</td>\n",
       "      <td>0</td>\n",
       "      <td>0</td>\n",
       "      <td>0</td>\n",
       "      <td>0</td>\n",
       "      <td>...</td>\n",
       "      <td>0</td>\n",
       "      <td>0</td>\n",
       "      <td>0</td>\n",
       "      <td>1</td>\n",
       "      <td>0</td>\n",
       "      <td>0</td>\n",
       "      <td>0</td>\n",
       "      <td>0</td>\n",
       "      <td>0</td>\n",
       "      <td>0</td>\n",
       "    </tr>\n",
       "    <tr>\n",
       "      <th>-9222399302879214035</th>\n",
       "      <td>0</td>\n",
       "      <td>0</td>\n",
       "      <td>0</td>\n",
       "      <td>0</td>\n",
       "      <td>0</td>\n",
       "      <td>0</td>\n",
       "      <td>0</td>\n",
       "      <td>0</td>\n",
       "      <td>0</td>\n",
       "      <td>0</td>\n",
       "      <td>...</td>\n",
       "      <td>0</td>\n",
       "      <td>0</td>\n",
       "      <td>0</td>\n",
       "      <td>1</td>\n",
       "      <td>0</td>\n",
       "      <td>0</td>\n",
       "      <td>0</td>\n",
       "      <td>0</td>\n",
       "      <td>0</td>\n",
       "      <td>0</td>\n",
       "    </tr>\n",
       "    <tr>\n",
       "      <th>-9221825537663503111</th>\n",
       "      <td>1</td>\n",
       "      <td>0</td>\n",
       "      <td>0</td>\n",
       "      <td>0</td>\n",
       "      <td>0</td>\n",
       "      <td>0</td>\n",
       "      <td>0</td>\n",
       "      <td>0</td>\n",
       "      <td>0</td>\n",
       "      <td>0</td>\n",
       "      <td>...</td>\n",
       "      <td>0</td>\n",
       "      <td>0</td>\n",
       "      <td>0</td>\n",
       "      <td>1</td>\n",
       "      <td>1</td>\n",
       "      <td>0</td>\n",
       "      <td>0</td>\n",
       "      <td>0</td>\n",
       "      <td>0</td>\n",
       "      <td>0</td>\n",
       "    </tr>\n",
       "    <tr>\n",
       "      <th>-9221767098072603291</th>\n",
       "      <td>1</td>\n",
       "      <td>1</td>\n",
       "      <td>0</td>\n",
       "      <td>0</td>\n",
       "      <td>0</td>\n",
       "      <td>0</td>\n",
       "      <td>0</td>\n",
       "      <td>0</td>\n",
       "      <td>0</td>\n",
       "      <td>0</td>\n",
       "      <td>...</td>\n",
       "      <td>0</td>\n",
       "      <td>0</td>\n",
       "      <td>0</td>\n",
       "      <td>1</td>\n",
       "      <td>1</td>\n",
       "      <td>0</td>\n",
       "      <td>0</td>\n",
       "      <td>0</td>\n",
       "      <td>0</td>\n",
       "      <td>0</td>\n",
       "    </tr>\n",
       "  </tbody>\n",
       "</table>\n",
       "<p>5 rows × 473 columns</p>\n",
       "</div>"
      ],
      "text/plain": [
       "                      category_1 free  category_1 reputation  \\\n",
       "device_id                                                      \n",
       "-9222956879900151005                0                      1   \n",
       "-9222661944218806987                1                      0   \n",
       "-9222399302879214035                0                      0   \n",
       "-9221825537663503111                1                      0   \n",
       "-9221767098072603291                1                      1   \n",
       "\n",
       "                      category_1 vitality  category_3 kindom game  \\\n",
       "device_id                                                           \n",
       "-9222956879900151005                    0                       0   \n",
       "-9222661944218806987                    0                       0   \n",
       "-9222399302879214035                    0                       0   \n",
       "-9221825537663503111                    0                       0   \n",
       "-9221767098072603291                    0                       0   \n",
       "\n",
       "                      category_80s Japanese comic  \\\n",
       "device_id                                           \n",
       "-9222956879900151005                            0   \n",
       "-9222661944218806987                            0   \n",
       "-9222399302879214035                            0   \n",
       "-9221825537663503111                            0   \n",
       "-9221767098072603291                            0   \n",
       "\n",
       "                      category_90s Japanese comic  category_A beauty care  \\\n",
       "device_id                                                                   \n",
       "-9222956879900151005                            0                       0   \n",
       "-9222661944218806987                            0                       0   \n",
       "-9222399302879214035                            0                       0   \n",
       "-9221825537663503111                            0                       0   \n",
       "-9221767098072603291                            0                       0   \n",
       "\n",
       "                      category_A shares  category_ARPG  \\\n",
       "device_id                                                \n",
       "-9222956879900151005                  0              0   \n",
       "-9222661944218806987                  0              0   \n",
       "-9222399302879214035                  0              0   \n",
       "-9221825537663503111                  0              0   \n",
       "-9221767098072603291                  0              0   \n",
       "\n",
       "                      category_Academic Information          ...            \\\n",
       "device_id                                                    ...             \n",
       "-9222956879900151005                              0          ...             \n",
       "-9222661944218806987                              0          ...             \n",
       "-9222399302879214035                              0          ...             \n",
       "-9221825537663503111                              0          ...             \n",
       "-9221767098072603291                              0          ...             \n",
       "\n",
       "                      category_travel  category_tribe  category_trickery  \\\n",
       "device_id                                                                  \n",
       "-9222956879900151005                0               0                  0   \n",
       "-9222661944218806987                0               0                  0   \n",
       "-9222399302879214035                0               0                  0   \n",
       "-9221825537663503111                0               0                  0   \n",
       "-9221767098072603291                0               0                  0   \n",
       "\n",
       "                      category_unknown  category_video  \\\n",
       "device_id                                                \n",
       "-9222956879900151005                 1               0   \n",
       "-9222661944218806987                 1               0   \n",
       "-9222399302879214035                 1               0   \n",
       "-9221825537663503111                 1               1   \n",
       "-9221767098072603291                 1               1   \n",
       "\n",
       "                      category_violence comic  category_vitality  \\\n",
       "device_id                                                          \n",
       "-9222956879900151005                        0                  0   \n",
       "-9222661944218806987                        0                  0   \n",
       "-9222399302879214035                        0                  0   \n",
       "-9221825537663503111                        0                  0   \n",
       "-9221767098072603291                        0                  0   \n",
       "\n",
       "                      category_war chess  category_weibo  \\\n",
       "device_id                                                  \n",
       "-9222956879900151005                   0               0   \n",
       "-9222661944218806987                   0               0   \n",
       "-9222399302879214035                   0               0   \n",
       "-9221825537663503111                   0               0   \n",
       "-9221767098072603291                   0               0   \n",
       "\n",
       "                      category_zombies game  \n",
       "device_id                                    \n",
       "-9222956879900151005                      0  \n",
       "-9222661944218806987                      0  \n",
       "-9222399302879214035                      0  \n",
       "-9221825537663503111                      0  \n",
       "-9221767098072603291                      0  \n",
       "\n",
       "[5 rows x 473 columns]"
      ]
     },
     "execution_count": 10,
     "metadata": {},
     "output_type": "execute_result"
    }
   ],
   "source": [
    "events = events.applymap(lambda x:1 if x!=0 else 0)\n",
    "events.head()"
   ]
  },
  {
   "cell_type": "markdown",
   "metadata": {},
   "source": [
    "### Write to_csv"
   ]
  },
  {
   "cell_type": "code",
   "execution_count": 12,
   "metadata": {},
   "outputs": [],
   "source": [
    "events.to_csv(url + 'model/category_matrix.csv')"
   ]
  }
 ],
 "metadata": {
  "kernelspec": {
   "display_name": "Python 3",
   "language": "python",
   "name": "python3"
  },
  "language_info": {
   "codemirror_mode": {
    "name": "ipython",
    "version": 3
   },
   "file_extension": ".py",
   "mimetype": "text/x-python",
   "name": "python",
   "nbconvert_exporter": "python",
   "pygments_lexer": "ipython3",
   "version": "3.6.5"
  }
 },
 "nbformat": 4,
 "nbformat_minor": 2
}
